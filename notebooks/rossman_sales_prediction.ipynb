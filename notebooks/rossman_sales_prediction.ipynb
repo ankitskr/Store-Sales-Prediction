{
 "cells": [
  {
   "cell_type": "markdown",
   "metadata": {
    "id": "iiYUgBgvGcOt"
   },
   "source": [
    "# Rossmann Store Sales\n",
    "### Forecast sales using store, promotion, and competitor data\n",
    "\n",
    "\n",
    "Rossmann operates over 3,000 drug stores in 7 European countries. Currently, Rossmann store managers are tasked with predicting their daily sales for up to six weeks in advance. Store sales are influenced by many factors, including promotions, competition, school and state holidays, seasonality, and locality. With thousands of individual managers predicting sales based on their unique circumstances, the accuracy of results can be quite varied.\n",
    "We are provided with historical sales data for 1,115 Rossmann stores. The task is to forecast the \"Sales\" column."
   ]
  },
  {
   "cell_type": "markdown",
   "metadata": {
    "id": "DXE9W_5ZGcO4"
   },
   "source": [
    "Data fields\n",
    "- **Id** - An Id that represents a (Store, Date) duple within the test set\n",
    "- **Store** - A unique Id for each store\n",
    "- **Sales** - The turnover for any given day (this is what you are predicting)\n",
    "- **Customers** - The number of customers on a given day\n",
    "- **Open** - An indicator for whether the store was open: 0 = closed, 1 = open\n",
    "- **StateHoliday** - Indicates a state holiday. Normally all stores, with few exceptions, are closed on state holidays. Note that all schools are closed on public holidays and weekends. a = public holiday, b = Easter holiday, c = Christmas, 0 = None\n",
    "- **SchoolHoliday** - Indicates if the (Store, Date) was affected by the closure of public schools\n",
    "- **StoreType** - Differentiates between 4 different store models: a, b, c, d\n",
    "- **Assortment** - Describes an assortment level: a = basic, b = extra, c = extended\n",
    "- **CompetitionDistance** - Distance in meters to the nearest competitor store\n",
    "- **CompetitionOpenSince[Month/Year]** - Gives the approximate year and month of the time the nearest competitor was opened\n",
    "- **Promo** - Indicates whether a store is running a promo on that day\n",
    "- **Promo2** - Promo2 is a continuing and consecutive promotion for some stores: 0 = store is not participating, 1 = store is participating\n",
    "- **Promo2Since[Year/Week]** - Describes the year and calendar week when the store started participating in Promo2\n",
    "- **PromoInterval** - Describes the consecutive intervals Promo2 is started, naming the months the promotion is started anew. E.g. \"Feb,May,Aug,Nov\" means each round starts in February, May, August, November of any given year for that store"
   ]
  },
  {
   "cell_type": "code",
   "execution_count": 1,
   "metadata": {
    "id": "KjWjQqe0GcO5"
   },
   "outputs": [],
   "source": [
    "# importing necessary libraries\n",
    "\n",
    "import pandas as pd\n",
    "import numpy as np\n",
    "import seaborn as sns\n",
    "import matplotlib.pyplot as plt"
   ]
  },
  {
   "cell_type": "markdown",
   "metadata": {
    "id": "RkM4DvPkGcO6"
   },
   "source": [
    "## Loading dataset"
   ]
  },
  {
   "cell_type": "code",
   "execution_count": 2,
   "metadata": {
    "id": "lRA7y-MSGcO7",
    "outputId": "f447b2e4-4999-44d1-933b-30a1e6df8a10"
   },
   "outputs": [
    {
     "data": {
      "text/html": [
       "<div>\n",
       "<style scoped>\n",
       "    .dataframe tbody tr th:only-of-type {\n",
       "        vertical-align: middle;\n",
       "    }\n",
       "\n",
       "    .dataframe tbody tr th {\n",
       "        vertical-align: top;\n",
       "    }\n",
       "\n",
       "    .dataframe thead th {\n",
       "        text-align: right;\n",
       "    }\n",
       "</style>\n",
       "<table border=\"1\" class=\"dataframe\">\n",
       "  <thead>\n",
       "    <tr style=\"text-align: right;\">\n",
       "      <th></th>\n",
       "      <th>Store</th>\n",
       "      <th>StoreType</th>\n",
       "      <th>Assortment</th>\n",
       "      <th>CompetitionDistance</th>\n",
       "      <th>CompetitionOpenSinceMonth</th>\n",
       "      <th>CompetitionOpenSinceYear</th>\n",
       "      <th>Promo2</th>\n",
       "      <th>Promo2SinceWeek</th>\n",
       "      <th>Promo2SinceYear</th>\n",
       "      <th>PromoInterval</th>\n",
       "    </tr>\n",
       "  </thead>\n",
       "  <tbody>\n",
       "    <tr>\n",
       "      <th>0</th>\n",
       "      <td>1</td>\n",
       "      <td>c</td>\n",
       "      <td>a</td>\n",
       "      <td>1270.0</td>\n",
       "      <td>9.0</td>\n",
       "      <td>2008.0</td>\n",
       "      <td>0</td>\n",
       "      <td>NaN</td>\n",
       "      <td>NaN</td>\n",
       "      <td>NaN</td>\n",
       "    </tr>\n",
       "    <tr>\n",
       "      <th>1</th>\n",
       "      <td>2</td>\n",
       "      <td>a</td>\n",
       "      <td>a</td>\n",
       "      <td>570.0</td>\n",
       "      <td>11.0</td>\n",
       "      <td>2007.0</td>\n",
       "      <td>1</td>\n",
       "      <td>13.0</td>\n",
       "      <td>2010.0</td>\n",
       "      <td>Jan,Apr,Jul,Oct</td>\n",
       "    </tr>\n",
       "    <tr>\n",
       "      <th>2</th>\n",
       "      <td>3</td>\n",
       "      <td>a</td>\n",
       "      <td>a</td>\n",
       "      <td>14130.0</td>\n",
       "      <td>12.0</td>\n",
       "      <td>2006.0</td>\n",
       "      <td>1</td>\n",
       "      <td>14.0</td>\n",
       "      <td>2011.0</td>\n",
       "      <td>Jan,Apr,Jul,Oct</td>\n",
       "    </tr>\n",
       "    <tr>\n",
       "      <th>3</th>\n",
       "      <td>4</td>\n",
       "      <td>c</td>\n",
       "      <td>c</td>\n",
       "      <td>620.0</td>\n",
       "      <td>9.0</td>\n",
       "      <td>2009.0</td>\n",
       "      <td>0</td>\n",
       "      <td>NaN</td>\n",
       "      <td>NaN</td>\n",
       "      <td>NaN</td>\n",
       "    </tr>\n",
       "    <tr>\n",
       "      <th>4</th>\n",
       "      <td>5</td>\n",
       "      <td>a</td>\n",
       "      <td>a</td>\n",
       "      <td>29910.0</td>\n",
       "      <td>4.0</td>\n",
       "      <td>2015.0</td>\n",
       "      <td>0</td>\n",
       "      <td>NaN</td>\n",
       "      <td>NaN</td>\n",
       "      <td>NaN</td>\n",
       "    </tr>\n",
       "  </tbody>\n",
       "</table>\n",
       "</div>"
      ],
      "text/plain": [
       "   Store StoreType Assortment  CompetitionDistance  CompetitionOpenSinceMonth  \\\n",
       "0      1         c          a               1270.0                        9.0   \n",
       "1      2         a          a                570.0                       11.0   \n",
       "2      3         a          a              14130.0                       12.0   \n",
       "3      4         c          c                620.0                        9.0   \n",
       "4      5         a          a              29910.0                        4.0   \n",
       "\n",
       "   CompetitionOpenSinceYear  Promo2  Promo2SinceWeek  Promo2SinceYear  \\\n",
       "0                    2008.0       0              NaN              NaN   \n",
       "1                    2007.0       1             13.0           2010.0   \n",
       "2                    2006.0       1             14.0           2011.0   \n",
       "3                    2009.0       0              NaN              NaN   \n",
       "4                    2015.0       0              NaN              NaN   \n",
       "\n",
       "     PromoInterval  \n",
       "0              NaN  \n",
       "1  Jan,Apr,Jul,Oct  \n",
       "2  Jan,Apr,Jul,Oct  \n",
       "3              NaN  \n",
       "4              NaN  "
      ]
     },
     "execution_count": 2,
     "metadata": {},
     "output_type": "execute_result"
    }
   ],
   "source": [
    "# This is the data which contains store details\n",
    "store_details = pd.read_csv(\"../data/raw/store.csv\")\n",
    "store_details.head()"
   ]
  },
  {
   "cell_type": "code",
   "execution_count": 3,
   "metadata": {
    "id": "ZLQmZxbJGcO8",
    "outputId": "9de2373e-e323-4ec7-ca51-d83f6e015c8c"
   },
   "outputs": [
    {
     "name": "stderr",
     "output_type": "stream",
     "text": [
      "C:\\Users\\Ankit\\AppData\\Local\\Temp\\ipykernel_20356\\1043789630.py:2: DtypeWarning: Columns (7) have mixed types. Specify dtype option on import or set low_memory=False.\n",
      "  train_data = pd.read_csv(\"../data/raw/train.csv\")\n"
     ]
    },
    {
     "data": {
      "text/html": [
       "<div>\n",
       "<style scoped>\n",
       "    .dataframe tbody tr th:only-of-type {\n",
       "        vertical-align: middle;\n",
       "    }\n",
       "\n",
       "    .dataframe tbody tr th {\n",
       "        vertical-align: top;\n",
       "    }\n",
       "\n",
       "    .dataframe thead th {\n",
       "        text-align: right;\n",
       "    }\n",
       "</style>\n",
       "<table border=\"1\" class=\"dataframe\">\n",
       "  <thead>\n",
       "    <tr style=\"text-align: right;\">\n",
       "      <th></th>\n",
       "      <th>Store</th>\n",
       "      <th>DayOfWeek</th>\n",
       "      <th>Date</th>\n",
       "      <th>Sales</th>\n",
       "      <th>Customers</th>\n",
       "      <th>Open</th>\n",
       "      <th>Promo</th>\n",
       "      <th>StateHoliday</th>\n",
       "      <th>SchoolHoliday</th>\n",
       "    </tr>\n",
       "  </thead>\n",
       "  <tbody>\n",
       "    <tr>\n",
       "      <th>0</th>\n",
       "      <td>1</td>\n",
       "      <td>5</td>\n",
       "      <td>2015-07-31</td>\n",
       "      <td>5263</td>\n",
       "      <td>555</td>\n",
       "      <td>1</td>\n",
       "      <td>1</td>\n",
       "      <td>0</td>\n",
       "      <td>1</td>\n",
       "    </tr>\n",
       "    <tr>\n",
       "      <th>1</th>\n",
       "      <td>2</td>\n",
       "      <td>5</td>\n",
       "      <td>2015-07-31</td>\n",
       "      <td>6064</td>\n",
       "      <td>625</td>\n",
       "      <td>1</td>\n",
       "      <td>1</td>\n",
       "      <td>0</td>\n",
       "      <td>1</td>\n",
       "    </tr>\n",
       "    <tr>\n",
       "      <th>2</th>\n",
       "      <td>3</td>\n",
       "      <td>5</td>\n",
       "      <td>2015-07-31</td>\n",
       "      <td>8314</td>\n",
       "      <td>821</td>\n",
       "      <td>1</td>\n",
       "      <td>1</td>\n",
       "      <td>0</td>\n",
       "      <td>1</td>\n",
       "    </tr>\n",
       "    <tr>\n",
       "      <th>3</th>\n",
       "      <td>4</td>\n",
       "      <td>5</td>\n",
       "      <td>2015-07-31</td>\n",
       "      <td>13995</td>\n",
       "      <td>1498</td>\n",
       "      <td>1</td>\n",
       "      <td>1</td>\n",
       "      <td>0</td>\n",
       "      <td>1</td>\n",
       "    </tr>\n",
       "    <tr>\n",
       "      <th>4</th>\n",
       "      <td>5</td>\n",
       "      <td>5</td>\n",
       "      <td>2015-07-31</td>\n",
       "      <td>4822</td>\n",
       "      <td>559</td>\n",
       "      <td>1</td>\n",
       "      <td>1</td>\n",
       "      <td>0</td>\n",
       "      <td>1</td>\n",
       "    </tr>\n",
       "  </tbody>\n",
       "</table>\n",
       "</div>"
      ],
      "text/plain": [
       "   Store  DayOfWeek        Date  Sales  Customers  Open  Promo StateHoliday  \\\n",
       "0      1          5  2015-07-31   5263        555     1      1            0   \n",
       "1      2          5  2015-07-31   6064        625     1      1            0   \n",
       "2      3          5  2015-07-31   8314        821     1      1            0   \n",
       "3      4          5  2015-07-31  13995       1498     1      1            0   \n",
       "4      5          5  2015-07-31   4822        559     1      1            0   \n",
       "\n",
       "   SchoolHoliday  \n",
       "0              1  \n",
       "1              1  \n",
       "2              1  \n",
       "3              1  \n",
       "4              1  "
      ]
     },
     "execution_count": 3,
     "metadata": {},
     "output_type": "execute_result"
    }
   ],
   "source": [
    "# Our Train data\n",
    "train_data = pd.read_csv(\"../data/raw/train.csv\")\n",
    "train_data.head()"
   ]
  },
  {
   "cell_type": "code",
   "execution_count": 4,
   "metadata": {
    "id": "PU3RhMjLGcO9",
    "outputId": "51745fe1-73c2-4e48-9865-2fb83445bc61"
   },
   "outputs": [
    {
     "data": {
      "text/html": [
       "<div>\n",
       "<style scoped>\n",
       "    .dataframe tbody tr th:only-of-type {\n",
       "        vertical-align: middle;\n",
       "    }\n",
       "\n",
       "    .dataframe tbody tr th {\n",
       "        vertical-align: top;\n",
       "    }\n",
       "\n",
       "    .dataframe thead th {\n",
       "        text-align: right;\n",
       "    }\n",
       "</style>\n",
       "<table border=\"1\" class=\"dataframe\">\n",
       "  <thead>\n",
       "    <tr style=\"text-align: right;\">\n",
       "      <th></th>\n",
       "      <th>Store</th>\n",
       "      <th>DayOfWeek</th>\n",
       "      <th>Date</th>\n",
       "      <th>Sales</th>\n",
       "      <th>Customers</th>\n",
       "      <th>Open</th>\n",
       "      <th>Promo</th>\n",
       "      <th>StateHoliday</th>\n",
       "      <th>SchoolHoliday</th>\n",
       "      <th>StoreType</th>\n",
       "      <th>Assortment</th>\n",
       "      <th>CompetitionDistance</th>\n",
       "      <th>CompetitionOpenSinceMonth</th>\n",
       "      <th>CompetitionOpenSinceYear</th>\n",
       "      <th>Promo2</th>\n",
       "      <th>Promo2SinceWeek</th>\n",
       "      <th>Promo2SinceYear</th>\n",
       "      <th>PromoInterval</th>\n",
       "    </tr>\n",
       "  </thead>\n",
       "  <tbody>\n",
       "    <tr>\n",
       "      <th>0</th>\n",
       "      <td>1</td>\n",
       "      <td>5</td>\n",
       "      <td>2015-07-31</td>\n",
       "      <td>5263</td>\n",
       "      <td>555</td>\n",
       "      <td>1</td>\n",
       "      <td>1</td>\n",
       "      <td>0</td>\n",
       "      <td>1</td>\n",
       "      <td>c</td>\n",
       "      <td>a</td>\n",
       "      <td>1270.0</td>\n",
       "      <td>9.0</td>\n",
       "      <td>2008.0</td>\n",
       "      <td>0</td>\n",
       "      <td>NaN</td>\n",
       "      <td>NaN</td>\n",
       "      <td>NaN</td>\n",
       "    </tr>\n",
       "    <tr>\n",
       "      <th>1</th>\n",
       "      <td>1</td>\n",
       "      <td>4</td>\n",
       "      <td>2015-07-30</td>\n",
       "      <td>5020</td>\n",
       "      <td>546</td>\n",
       "      <td>1</td>\n",
       "      <td>1</td>\n",
       "      <td>0</td>\n",
       "      <td>1</td>\n",
       "      <td>c</td>\n",
       "      <td>a</td>\n",
       "      <td>1270.0</td>\n",
       "      <td>9.0</td>\n",
       "      <td>2008.0</td>\n",
       "      <td>0</td>\n",
       "      <td>NaN</td>\n",
       "      <td>NaN</td>\n",
       "      <td>NaN</td>\n",
       "    </tr>\n",
       "    <tr>\n",
       "      <th>2</th>\n",
       "      <td>1</td>\n",
       "      <td>3</td>\n",
       "      <td>2015-07-29</td>\n",
       "      <td>4782</td>\n",
       "      <td>523</td>\n",
       "      <td>1</td>\n",
       "      <td>1</td>\n",
       "      <td>0</td>\n",
       "      <td>1</td>\n",
       "      <td>c</td>\n",
       "      <td>a</td>\n",
       "      <td>1270.0</td>\n",
       "      <td>9.0</td>\n",
       "      <td>2008.0</td>\n",
       "      <td>0</td>\n",
       "      <td>NaN</td>\n",
       "      <td>NaN</td>\n",
       "      <td>NaN</td>\n",
       "    </tr>\n",
       "    <tr>\n",
       "      <th>3</th>\n",
       "      <td>1</td>\n",
       "      <td>2</td>\n",
       "      <td>2015-07-28</td>\n",
       "      <td>5011</td>\n",
       "      <td>560</td>\n",
       "      <td>1</td>\n",
       "      <td>1</td>\n",
       "      <td>0</td>\n",
       "      <td>1</td>\n",
       "      <td>c</td>\n",
       "      <td>a</td>\n",
       "      <td>1270.0</td>\n",
       "      <td>9.0</td>\n",
       "      <td>2008.0</td>\n",
       "      <td>0</td>\n",
       "      <td>NaN</td>\n",
       "      <td>NaN</td>\n",
       "      <td>NaN</td>\n",
       "    </tr>\n",
       "    <tr>\n",
       "      <th>4</th>\n",
       "      <td>1</td>\n",
       "      <td>1</td>\n",
       "      <td>2015-07-27</td>\n",
       "      <td>6102</td>\n",
       "      <td>612</td>\n",
       "      <td>1</td>\n",
       "      <td>1</td>\n",
       "      <td>0</td>\n",
       "      <td>1</td>\n",
       "      <td>c</td>\n",
       "      <td>a</td>\n",
       "      <td>1270.0</td>\n",
       "      <td>9.0</td>\n",
       "      <td>2008.0</td>\n",
       "      <td>0</td>\n",
       "      <td>NaN</td>\n",
       "      <td>NaN</td>\n",
       "      <td>NaN</td>\n",
       "    </tr>\n",
       "  </tbody>\n",
       "</table>\n",
       "</div>"
      ],
      "text/plain": [
       "   Store  DayOfWeek        Date  Sales  Customers  Open  Promo StateHoliday  \\\n",
       "0      1          5  2015-07-31   5263        555     1      1            0   \n",
       "1      1          4  2015-07-30   5020        546     1      1            0   \n",
       "2      1          3  2015-07-29   4782        523     1      1            0   \n",
       "3      1          2  2015-07-28   5011        560     1      1            0   \n",
       "4      1          1  2015-07-27   6102        612     1      1            0   \n",
       "\n",
       "   SchoolHoliday StoreType Assortment  CompetitionDistance  \\\n",
       "0              1         c          a               1270.0   \n",
       "1              1         c          a               1270.0   \n",
       "2              1         c          a               1270.0   \n",
       "3              1         c          a               1270.0   \n",
       "4              1         c          a               1270.0   \n",
       "\n",
       "   CompetitionOpenSinceMonth  CompetitionOpenSinceYear  Promo2  \\\n",
       "0                        9.0                    2008.0       0   \n",
       "1                        9.0                    2008.0       0   \n",
       "2                        9.0                    2008.0       0   \n",
       "3                        9.0                    2008.0       0   \n",
       "4                        9.0                    2008.0       0   \n",
       "\n",
       "   Promo2SinceWeek  Promo2SinceYear PromoInterval  \n",
       "0              NaN              NaN           NaN  \n",
       "1              NaN              NaN           NaN  \n",
       "2              NaN              NaN           NaN  \n",
       "3              NaN              NaN           NaN  \n",
       "4              NaN              NaN           NaN  "
      ]
     },
     "execution_count": 4,
     "metadata": {},
     "output_type": "execute_result"
    }
   ],
   "source": [
    "# merged our train data and store details data based on store number to get complete info for each store\n",
    "combined_data = pd.merge(train_data, store_details, on='Store')\n",
    "combined_data.head()"
   ]
  },
  {
   "cell_type": "code",
   "execution_count": 5,
   "metadata": {
    "id": "tdeHqFl1GcO-",
    "outputId": "41536a5d-609f-4c1e-f4e3-a9db825fba37"
   },
   "outputs": [
    {
     "data": {
      "text/plain": [
       "(1017209, 18)"
      ]
     },
     "execution_count": 5,
     "metadata": {},
     "output_type": "execute_result"
    }
   ],
   "source": [
    "combined_data.shape"
   ]
  },
  {
   "cell_type": "markdown",
   "metadata": {
    "id": "Z-3lJmTqGcO-"
   },
   "source": [
    "## Exploring Dataset"
   ]
  },
  {
   "cell_type": "code",
   "execution_count": 6,
   "metadata": {
    "id": "5awYFaNtGcO_",
    "outputId": "696378ba-a040-45f5-fb7e-058bf81fa6e2"
   },
   "outputs": [
    {
     "name": "stdout",
     "output_type": "stream",
     "text": [
      "Total size of dataset:  1017209\n",
      "Store                             0\n",
      "DayOfWeek                         0\n",
      "Date                              0\n",
      "Sales                             0\n",
      "Customers                         0\n",
      "Open                              0\n",
      "Promo                             0\n",
      "StateHoliday                      0\n",
      "SchoolHoliday                     0\n",
      "StoreType                         0\n",
      "Assortment                        0\n",
      "CompetitionDistance            2642\n",
      "CompetitionOpenSinceMonth    323348\n",
      "CompetitionOpenSinceYear     323348\n",
      "Promo2                            0\n",
      "Promo2SinceWeek              508031\n",
      "Promo2SinceYear              508031\n",
      "PromoInterval                508031\n",
      "dtype: int64\n"
     ]
    }
   ],
   "source": [
    "# missing values in the dataset\n",
    "print(\"Total size of dataset: \", len(combined_data))\n",
    "print(combined_data.isnull().sum())"
   ]
  },
  {
   "cell_type": "code",
   "execution_count": 7,
   "metadata": {
    "id": "R_BEXOD7GcO_",
    "outputId": "c43b35ec-534a-46df-e349-29e489f6e2b5"
   },
   "outputs": [
    {
     "name": "stdout",
     "output_type": "stream",
     "text": [
      "Store                     [   1    2    3 ... 1113 1114 1115]\n",
      "DayOfWeek                 [5 4 3 2 1 7 6]\n",
      "Sales                     [ 5263  5020  4782 ... 20362 18841 21237]\n",
      "Customers                 [ 555  546  523 ... 3727 4022 4106]\n",
      "Open                      [1 0]\n",
      "Promo                     [1 0]\n",
      "StateHoliday              ['0' 'a' 'b' 'c' 0]\n",
      "SchoolHoliday             [1 0]\n",
      "StoreType                 ['c' 'a' 'd' 'b']\n",
      "Assortment                ['a' 'c' 'b']\n",
      "CompetitionOpenSinceMonth [ 9. 11. 12.  4. 10.  8. nan  3.  6.  5.  1.  2.  7.]\n",
      "CompetitionOpenSinceYear  [2008. 2007. 2006. 2009. 2015. 2013. 2014. 2000. 2011.   nan 2010. 2005.\n",
      " 1999. 2003. 2012. 2004. 2002. 1961. 1995. 2001. 1990. 1994. 1900. 1998.]\n",
      "Promo2                    [0 1]\n",
      "Promo2SinceWeek           [nan 13. 14.  1. 45. 40. 26. 22.  5.  6. 10. 31. 37.  9. 39. 27. 18. 35.\n",
      " 23. 48. 36. 50. 44. 49. 28.]\n",
      "Promo2SinceYear           [  nan 2010. 2011. 2012. 2009. 2014. 2015. 2013.]\n",
      "PromoInterval             [nan 'Jan,Apr,Jul,Oct' 'Feb,May,Aug,Nov' 'Mar,Jun,Sept,Dec']\n"
     ]
    }
   ],
   "source": [
    "# unique values in dataset\n",
    "columns = list(combined_data.columns)\n",
    "columns.remove('Date')\n",
    "columns.remove('CompetitionDistance')\n",
    "for col in columns:\n",
    "    print(f'{col:<25} {combined_data[col].unique()}')"
   ]
  },
  {
   "cell_type": "code",
   "execution_count": 8,
   "metadata": {
    "id": "ovDVWea1GcPA",
    "outputId": "b64f2197-3f96-48dd-b7b8-c3b48668d405"
   },
   "outputs": [
    {
     "data": {
      "image/png": "[encoded data removed]",
      "text/plain": [
       "<Figure size 500x300 with 1 Axes>"
      ]
     },
     "metadata": {},
     "output_type": "display_data"
    }
   ],
   "source": [
    "# extracting year and month from Date \n",
    "combined_data['Year']  = combined_data['Date'].apply(lambda x: int(str(x)[:4]))\n",
    "combined_data['Month'] = combined_data['Date'].apply(lambda x: int(str(x)[5:7]))\n",
    "\n",
    "# Sales with respect to year \n",
    "plt.figure(figsize=(5,3))\n",
    "sns.barplot(x='Year', y='Sales', data=combined_data).set(title='Year vs Sales')\n",
    "plt.show()"
   ]
  },
  {
   "cell_type": "markdown",
   "metadata": {
    "id": "UNuyPNJTGcPA"
   },
   "source": [
    "**Observation**: Average sales have been increasing year to year"
   ]
  },
  {
   "cell_type": "code",
   "execution_count": 9,
   "metadata": {
    "id": "cesUe18rGcPB",
    "outputId": "fc5622b4-e24b-48b4-fe01-7c6d389aadc5"
   },
   "outputs": [
    {
     "data": {
      "image/png": "[encoded data removed]",
      "text/plain": [
       "<Figure size 500x300 with 1 Axes>"
      ]
     },
     "metadata": {},
     "output_type": "display_data"
    }
   ],
   "source": [
    "# Sales with respect to week\n",
    "plt.figure(figsize=(5,3))\n",
    "sns.barplot(x='DayOfWeek', y='Sales', data=combined_data).set(title='Week vs Sales')\n",
    "plt.show()"
   ]
  },
  {
   "cell_type": "markdown",
   "metadata": {
    "id": "cPBDDKRnGcPB"
   },
   "source": [
    "**Observation**: Avg. Sales on 1 (Monday), 2 (Tuesday), and 5 (Friday) are the highest"
   ]
  },
  {
   "cell_type": "code",
   "execution_count": 10,
   "metadata": {
    "id": "V4tvRFqLGcPB",
    "outputId": "268d7cab-59cd-4fe0-9a42-a8cd3f955881"
   },
   "outputs": [
    {
     "data": {
      "image/png": "[encoded data removed]",
      "text/plain": [
       "<Figure size 500x300 with 1 Axes>"
      ]
     },
     "metadata": {},
     "output_type": "display_data"
    }
   ],
   "source": [
    "# Sales with respect to Promo\n",
    "plt.figure(figsize=(5,3))\n",
    "sns.barplot(x='Promo', y='Sales', data=combined_data).set(title='Promo vs Sales')\n",
    "plt.show()"
   ]
  },
  {
   "cell_type": "markdown",
   "metadata": {
    "id": "wSN7pBWZGcPC"
   },
   "source": [
    "**Observation**: Sales are higher when the store is running a promo"
   ]
  },
  {
   "cell_type": "code",
   "execution_count": 11,
   "metadata": {
    "id": "t0o6QaSXGcPC",
    "outputId": "cc42c843-effb-4723-cb32-0506ffaadd0b"
   },
   "outputs": [
    {
     "name": "stderr",
     "output_type": "stream",
     "text": [
      "C:\\Users\\Ankit\\AppData\\Local\\Temp\\ipykernel_20356\\1339686731.py:2: SettingWithCopyWarning: \n",
      "A value is trying to be set on a copy of a slice from a DataFrame\n",
      "\n",
      "See the caveats in the documentation: https://pandas.pydata.org/pandas-docs/stable/user_guide/indexing.html#returning-a-view-versus-a-copy\n",
      "  combined_data[\"StateHoliday\"].loc[combined_data[\"StateHoliday\"] == 0] = \"0\"\n"
     ]
    },
    {
     "data": {
      "image/png": "[encoded data removed]",
      "text/plain": [
       "<Figure size 500x300 with 1 Axes>"
      ]
     },
     "metadata": {},
     "output_type": "display_data"
    }
   ],
   "source": [
    "# StateHoliday column has values 0 & \"0\", So, we need to change values with 0 to \"0\"\n",
    "combined_data[\"StateHoliday\"].loc[combined_data[\"StateHoliday\"] == 0] = \"0\"\n",
    "\n",
    "# Sales with respect to State Holiday\n",
    "aliases = {'a': 'Public Holiday',\n",
    "           'b': 'Easter Holiday',\n",
    "           'c': 'Chirstmas',\n",
    "           '0': 'Working day'}\n",
    "\n",
    "combined_data['StateHoliday_alias'] = combined_data[\"StateHoliday\"].map(aliases)\n",
    "plt.figure(figsize=(5,3))\n",
    "sns.barplot(x='StateHoliday_alias', y='Sales', data=combined_data).set(title='State Holiday vs Sales')\n",
    "plt.xticks(rotation=45)\n",
    "plt.show()"
   ]
  },
  {
   "cell_type": "markdown",
   "metadata": {
    "id": "2WSsIPCHGcPD"
   },
   "source": [
    "**Observation**: Most stores are closed on State Holidays; thus, sales are low then."
   ]
  },
  {
   "cell_type": "code",
   "execution_count": 12,
   "metadata": {
    "id": "0NgrAsOZGcPD",
    "outputId": "8e617de7-e4a6-4691-f141-c7d62bfaff23"
   },
   "outputs": [
    {
     "data": {
      "image/png": "[encoded data removed]",
      "text/plain": [
       "<Figure size 500x300 with 1 Axes>"
      ]
     },
     "metadata": {},
     "output_type": "display_data"
    }
   ],
   "source": [
    "# Sales with respect to School Holiday\n",
    "plt.figure(figsize=(5,3))\n",
    "sns.barplot(x='SchoolHoliday', y='Sales', data=combined_data).set(title='School Holiday vs Sales')\n",
    "plt.show()"
   ]
  },
  {
   "cell_type": "markdown",
   "metadata": {
    "id": "NJ6iur3qGcPD"
   },
   "source": [
    "**Observation**: On School Holidays, sales are high."
   ]
  },
  {
   "cell_type": "code",
   "execution_count": 13,
   "metadata": {
    "id": "fcOD0yu3GcPE",
    "outputId": "9cd6553f-84ae-4c8b-e2a2-faad8d24e06c"
   },
   "outputs": [
    {
     "data": {
      "image/png": "[encoded data removed]",
      "text/plain": [
       "<Figure size 500x300 with 1 Axes>"
      ]
     },
     "metadata": {},
     "output_type": "display_data"
    }
   ],
   "source": [
    "# Sales with respect to StoreType\n",
    "plt.figure(figsize=(5,3))\n",
    "sns.barplot(x='StoreType', y='Sales', data=combined_data).set(title='StoreType vs Sales')\n",
    "plt.show()"
   ]
  },
  {
   "cell_type": "markdown",
   "metadata": {
    "id": "9_8bMiRdGcPE"
   },
   "source": [
    "**Observation**: a,b,c,d are store models where b type stores have the highest sales "
   ]
  },
  {
   "cell_type": "code",
   "execution_count": 14,
   "metadata": {
    "id": "JIYDTyliGcPE",
    "outputId": "a6351b2c-af00-4f0e-fdbe-907d5eae3727"
   },
   "outputs": [
    {
     "data": {
      "image/png": "[encoded data removed]",
      "text/plain": [
       "<Figure size 500x300 with 1 Axes>"
      ]
     },
     "metadata": {},
     "output_type": "display_data"
    }
   ],
   "source": [
    "# Sales with respect to Assortment\n",
    "aliases = {'a': 'Basic',\n",
    "           'b': 'Extra',\n",
    "           'c': 'Extended'}\n",
    "\n",
    "combined_data['Assortment_alias'] = combined_data['Assortment'].map(aliases)\n",
    "\n",
    "plt.figure(figsize=(5,3))\n",
    "sns.barplot(x='Assortment_alias', y='Sales', data=combined_data).set(title='Assortment vs Sales')\n",
    "plt.show()"
   ]
  },
  {
   "cell_type": "markdown",
   "metadata": {
    "id": "6mdLBO8IGcPF"
   },
   "source": [
    "**Observation**: Assortment Type 'Extra' have the highest sales"
   ]
  },
  {
   "cell_type": "markdown",
   "metadata": {
    "id": "Z--j7AgpGcPF"
   },
   "source": [
    "## Filling Missing Values and Removing Outliers\n",
    "\n",
    "Few columns in store_details table have high number of missing values, so we need to fill them with appropriate method for better result"
   ]
  },
  {
   "cell_type": "code",
   "execution_count": 15,
   "metadata": {
    "id": "4yoXz-RKGcPM",
    "outputId": "9597bab9-3336-4a12-964b-0e269b33dc7a"
   },
   "outputs": [
    {
     "data": {
      "text/plain": [
       "Store                          0\n",
       "StoreType                      0\n",
       "Assortment                     0\n",
       "CompetitionDistance            3\n",
       "CompetitionOpenSinceMonth    354\n",
       "CompetitionOpenSinceYear     354\n",
       "Promo2                         0\n",
       "Promo2SinceWeek              544\n",
       "Promo2SinceYear              544\n",
       "PromoInterval                544\n",
       "dtype: int64"
      ]
     },
     "execution_count": 15,
     "metadata": {},
     "output_type": "execute_result"
    }
   ],
   "source": [
    "store_details.isnull().sum()"
   ]
  },
  {
   "cell_type": "markdown",
   "metadata": {
    "id": "xnQtPHj-GcPL"
   },
   "source": [
    "### Filling Missing Values\n",
    "##### Approach\n",
    "1: The null values in Column Promo2SinceWeek, Promo2SinceYear, PromoInterval is due to Promo2 is 0 (non-participating) for those stores. So we would fill all the null values in these columns with 0.\n",
    "\n",
    "2: Since Competition Distance for 3 stores isn't given. We can keep it null or fill it with mean of the distance given for all other stores. A comparision can be studied.\n",
    "\n",
    "3: Features CompetitionOpenSinceMonth and CompetitionOpenSinceYear with null values can be kept null or they can be filled using the most occuring month and year respectively. Again, a comparision can be studied."
   ]
  },
  {
   "cell_type": "code",
   "execution_count": 16,
   "metadata": {},
   "outputs": [
    {
     "data": {
      "text/plain": [
       "Store            0\n",
       "DayOfWeek        0\n",
       "Date             0\n",
       "Sales            0\n",
       "Customers        0\n",
       "Open             0\n",
       "Promo            0\n",
       "StateHoliday     0\n",
       "SchoolHoliday    0\n",
       "dtype: int64"
      ]
     },
     "execution_count": 16,
     "metadata": {},
     "output_type": "execute_result"
    }
   ],
   "source": [
    "train_data.isnull().sum()"
   ]
  },
  {
   "cell_type": "code",
   "execution_count": 17,
   "metadata": {
    "id": "BctAkOwjGcPO"
   },
   "outputs": [],
   "source": [
    "# Filling Promo2SinceWeek, Promo2SinceYear, PromoInterval with 0\n",
    "store_details.update(store_details[['Promo2SinceWeek','Promo2SinceYear','PromoInterval']].fillna(0))"
   ]
  },
  {
   "cell_type": "code",
   "execution_count": 18,
   "metadata": {
    "id": "ny3CjDBpGcPP"
   },
   "outputs": [],
   "source": [
    "# Filling CompetitionDistance with mean distance\n",
    "mean_competition_distance = store_details['CompetitionDistance'].mean()\n",
    "store_details['CompetitionDistance_raw'] = store_details['CompetitionDistance'].copy(deep=True)\n",
    "store_details['CompetitionDistance'].fillna(mean_competition_distance, inplace=True)"
   ]
  },
  {
   "cell_type": "code",
   "execution_count": 19,
   "metadata": {
    "id": "ZaOb-9PrGcPP"
   },
   "outputs": [],
   "source": [
    "# Filling CompetitionOpenSinceMonth, CompetitionOpenSinceYear with most occuring month and year respectively\n",
    "mode_competition_open_month = store_details['CompetitionOpenSinceMonth'].mode()[0]\n",
    "mode_competition_open_year = store_details['CompetitionOpenSinceYear'].mode()[0]\n",
    "\n",
    "store_details['CompetitionOpenSinceMonth_raw'] = store_details['CompetitionOpenSinceMonth'].copy(deep=True)\n",
    "store_details['CompetitionOpenSinceYear_raw'] = store_details['CompetitionOpenSinceYear'].copy(deep=True)\n",
    "\n",
    "store_details['CompetitionOpenSinceMonth'].fillna(mode_competition_open_month,inplace=True)\n",
    "store_details['CompetitionOpenSinceYear'].fillna(mode_competition_open_year,inplace=True)"
   ]
  },
  {
   "cell_type": "code",
   "execution_count": 20,
   "metadata": {
    "id": "mgSnGuutGcPR",
    "outputId": "46bcd4ed-313c-4e94-c10e-6e9cf08578f9"
   },
   "outputs": [
    {
     "data": {
      "text/plain": [
       "Store                              0\n",
       "StoreType                          0\n",
       "Assortment                         0\n",
       "CompetitionDistance                0\n",
       "CompetitionOpenSinceMonth          0\n",
       "CompetitionOpenSinceYear           0\n",
       "Promo2                             0\n",
       "Promo2SinceWeek                    0\n",
       "Promo2SinceYear                    0\n",
       "PromoInterval                      0\n",
       "CompetitionDistance_raw            3\n",
       "CompetitionOpenSinceMonth_raw    354\n",
       "CompetitionOpenSinceYear_raw     354\n",
       "dtype: int64"
      ]
     },
     "execution_count": 20,
     "metadata": {},
     "output_type": "execute_result"
    }
   ],
   "source": [
    "store_details.isnull().sum()"
   ]
  },
  {
   "cell_type": "markdown",
   "metadata": {
    "id": "WlHYknHvGcPS"
   },
   "source": [
    "* All missing values have been filled"
   ]
  },
  {
   "cell_type": "code",
   "execution_count": 21,
   "metadata": {
    "id": "_XVNNn3MGcPS",
    "outputId": "5f3d738f-f221-468a-9803-cd16c67cad23"
   },
   "outputs": [
    {
     "data": {
      "text/html": [
       "<div>\n",
       "<style scoped>\n",
       "    .dataframe tbody tr th:only-of-type {\n",
       "        vertical-align: middle;\n",
       "    }\n",
       "\n",
       "    .dataframe tbody tr th {\n",
       "        vertical-align: top;\n",
       "    }\n",
       "\n",
       "    .dataframe thead th {\n",
       "        text-align: right;\n",
       "    }\n",
       "</style>\n",
       "<table border=\"1\" class=\"dataframe\">\n",
       "  <thead>\n",
       "    <tr style=\"text-align: right;\">\n",
       "      <th></th>\n",
       "      <th>Store</th>\n",
       "      <th>DayOfWeek</th>\n",
       "      <th>Date</th>\n",
       "      <th>Sales</th>\n",
       "      <th>Customers</th>\n",
       "      <th>Open</th>\n",
       "      <th>Promo</th>\n",
       "      <th>StateHoliday</th>\n",
       "      <th>SchoolHoliday</th>\n",
       "      <th>StoreType</th>\n",
       "      <th>...</th>\n",
       "      <th>CompetitionDistance</th>\n",
       "      <th>CompetitionOpenSinceMonth</th>\n",
       "      <th>CompetitionOpenSinceYear</th>\n",
       "      <th>Promo2</th>\n",
       "      <th>Promo2SinceWeek</th>\n",
       "      <th>Promo2SinceYear</th>\n",
       "      <th>PromoInterval</th>\n",
       "      <th>CompetitionDistance_raw</th>\n",
       "      <th>CompetitionOpenSinceMonth_raw</th>\n",
       "      <th>CompetitionOpenSinceYear_raw</th>\n",
       "    </tr>\n",
       "  </thead>\n",
       "  <tbody>\n",
       "    <tr>\n",
       "      <th>0</th>\n",
       "      <td>1</td>\n",
       "      <td>5</td>\n",
       "      <td>2015-07-31</td>\n",
       "      <td>5263</td>\n",
       "      <td>555</td>\n",
       "      <td>1</td>\n",
       "      <td>1</td>\n",
       "      <td>0</td>\n",
       "      <td>1</td>\n",
       "      <td>c</td>\n",
       "      <td>...</td>\n",
       "      <td>1270.0</td>\n",
       "      <td>9.0</td>\n",
       "      <td>2008.0</td>\n",
       "      <td>0</td>\n",
       "      <td>0.0</td>\n",
       "      <td>0.0</td>\n",
       "      <td>0</td>\n",
       "      <td>1270.0</td>\n",
       "      <td>9.0</td>\n",
       "      <td>2008.0</td>\n",
       "    </tr>\n",
       "    <tr>\n",
       "      <th>1</th>\n",
       "      <td>1</td>\n",
       "      <td>4</td>\n",
       "      <td>2015-07-30</td>\n",
       "      <td>5020</td>\n",
       "      <td>546</td>\n",
       "      <td>1</td>\n",
       "      <td>1</td>\n",
       "      <td>0</td>\n",
       "      <td>1</td>\n",
       "      <td>c</td>\n",
       "      <td>...</td>\n",
       "      <td>1270.0</td>\n",
       "      <td>9.0</td>\n",
       "      <td>2008.0</td>\n",
       "      <td>0</td>\n",
       "      <td>0.0</td>\n",
       "      <td>0.0</td>\n",
       "      <td>0</td>\n",
       "      <td>1270.0</td>\n",
       "      <td>9.0</td>\n",
       "      <td>2008.0</td>\n",
       "    </tr>\n",
       "    <tr>\n",
       "      <th>2</th>\n",
       "      <td>1</td>\n",
       "      <td>3</td>\n",
       "      <td>2015-07-29</td>\n",
       "      <td>4782</td>\n",
       "      <td>523</td>\n",
       "      <td>1</td>\n",
       "      <td>1</td>\n",
       "      <td>0</td>\n",
       "      <td>1</td>\n",
       "      <td>c</td>\n",
       "      <td>...</td>\n",
       "      <td>1270.0</td>\n",
       "      <td>9.0</td>\n",
       "      <td>2008.0</td>\n",
       "      <td>0</td>\n",
       "      <td>0.0</td>\n",
       "      <td>0.0</td>\n",
       "      <td>0</td>\n",
       "      <td>1270.0</td>\n",
       "      <td>9.0</td>\n",
       "      <td>2008.0</td>\n",
       "    </tr>\n",
       "    <tr>\n",
       "      <th>3</th>\n",
       "      <td>1</td>\n",
       "      <td>2</td>\n",
       "      <td>2015-07-28</td>\n",
       "      <td>5011</td>\n",
       "      <td>560</td>\n",
       "      <td>1</td>\n",
       "      <td>1</td>\n",
       "      <td>0</td>\n",
       "      <td>1</td>\n",
       "      <td>c</td>\n",
       "      <td>...</td>\n",
       "      <td>1270.0</td>\n",
       "      <td>9.0</td>\n",
       "      <td>2008.0</td>\n",
       "      <td>0</td>\n",
       "      <td>0.0</td>\n",
       "      <td>0.0</td>\n",
       "      <td>0</td>\n",
       "      <td>1270.0</td>\n",
       "      <td>9.0</td>\n",
       "      <td>2008.0</td>\n",
       "    </tr>\n",
       "    <tr>\n",
       "      <th>4</th>\n",
       "      <td>1</td>\n",
       "      <td>1</td>\n",
       "      <td>2015-07-27</td>\n",
       "      <td>6102</td>\n",
       "      <td>612</td>\n",
       "      <td>1</td>\n",
       "      <td>1</td>\n",
       "      <td>0</td>\n",
       "      <td>1</td>\n",
       "      <td>c</td>\n",
       "      <td>...</td>\n",
       "      <td>1270.0</td>\n",
       "      <td>9.0</td>\n",
       "      <td>2008.0</td>\n",
       "      <td>0</td>\n",
       "      <td>0.0</td>\n",
       "      <td>0.0</td>\n",
       "      <td>0</td>\n",
       "      <td>1270.0</td>\n",
       "      <td>9.0</td>\n",
       "      <td>2008.0</td>\n",
       "    </tr>\n",
       "  </tbody>\n",
       "</table>\n",
       "<p>5 rows × 21 columns</p>\n",
       "</div>"
      ],
      "text/plain": [
       "   Store  DayOfWeek        Date  Sales  Customers  Open  Promo StateHoliday  \\\n",
       "0      1          5  2015-07-31   5263        555     1      1            0   \n",
       "1      1          4  2015-07-30   5020        546     1      1            0   \n",
       "2      1          3  2015-07-29   4782        523     1      1            0   \n",
       "3      1          2  2015-07-28   5011        560     1      1            0   \n",
       "4      1          1  2015-07-27   6102        612     1      1            0   \n",
       "\n",
       "   SchoolHoliday StoreType  ... CompetitionDistance  \\\n",
       "0              1         c  ...              1270.0   \n",
       "1              1         c  ...              1270.0   \n",
       "2              1         c  ...              1270.0   \n",
       "3              1         c  ...              1270.0   \n",
       "4              1         c  ...              1270.0   \n",
       "\n",
       "   CompetitionOpenSinceMonth  CompetitionOpenSinceYear  Promo2  \\\n",
       "0                        9.0                    2008.0       0   \n",
       "1                        9.0                    2008.0       0   \n",
       "2                        9.0                    2008.0       0   \n",
       "3                        9.0                    2008.0       0   \n",
       "4                        9.0                    2008.0       0   \n",
       "\n",
       "   Promo2SinceWeek  Promo2SinceYear  PromoInterval CompetitionDistance_raw  \\\n",
       "0              0.0              0.0              0                  1270.0   \n",
       "1              0.0              0.0              0                  1270.0   \n",
       "2              0.0              0.0              0                  1270.0   \n",
       "3              0.0              0.0              0                  1270.0   \n",
       "4              0.0              0.0              0                  1270.0   \n",
       "\n",
       "   CompetitionOpenSinceMonth_raw  CompetitionOpenSinceYear_raw  \n",
       "0                            9.0                        2008.0  \n",
       "1                            9.0                        2008.0  \n",
       "2                            9.0                        2008.0  \n",
       "3                            9.0                        2008.0  \n",
       "4                            9.0                        2008.0  \n",
       "\n",
       "[5 rows x 21 columns]"
      ]
     },
     "execution_count": 21,
     "metadata": {},
     "output_type": "execute_result"
    }
   ],
   "source": [
    "# merging the data again\n",
    "combined_data = pd.merge(train_data, store_details, on='Store')\n",
    "combined_data.head()"
   ]
  },
  {
   "cell_type": "code",
   "execution_count": 22,
   "metadata": {
    "id": "oorUUcOKGcPU",
    "outputId": "dd8ad8da-676b-4576-d0df-bb8de878fac4"
   },
   "outputs": [
    {
     "data": {
      "text/plain": [
       "Store                                 0\n",
       "DayOfWeek                             0\n",
       "Date                                  0\n",
       "Sales                                 0\n",
       "Customers                             0\n",
       "Open                                  0\n",
       "Promo                                 0\n",
       "StateHoliday                          0\n",
       "SchoolHoliday                         0\n",
       "StoreType                             0\n",
       "Assortment                            0\n",
       "CompetitionDistance                   0\n",
       "CompetitionOpenSinceMonth             0\n",
       "CompetitionOpenSinceYear              0\n",
       "Promo2                                0\n",
       "Promo2SinceWeek                       0\n",
       "Promo2SinceYear                       0\n",
       "PromoInterval                         0\n",
       "CompetitionDistance_raw            2642\n",
       "CompetitionOpenSinceMonth_raw    323348\n",
       "CompetitionOpenSinceYear_raw     323348\n",
       "dtype: int64"
      ]
     },
     "execution_count": 22,
     "metadata": {},
     "output_type": "execute_result"
    }
   ],
   "source": [
    "combined_data.isnull().sum()"
   ]
  },
  {
   "cell_type": "code",
   "execution_count": 25,
   "metadata": {
    "id": "hAgi3Xw4GcPU",
    "outputId": "daeb54f7-6bd8-4fa8-9bb9-71ef4773230e"
   },
   "outputs": [
    {
     "data": {
      "text/plain": [
       "<Axes: title={'center': 'Sales vs CompetitionDistance'}, xlabel='CompetitionDistance', ylabel='Sales'>"
      ]
     },
     "execution_count": 25,
     "metadata": {},
     "output_type": "execute_result"
    },
    {
     "data": {
      "image/png": "[encoded data removed]",
      "text/plain": [
       "<Figure size 1200x300 with 1 Axes>"
      ]
     },
     "metadata": {},
     "output_type": "display_data"
    }
   ],
   "source": [
    "combined_data.plot(kind='scatter',x='CompetitionDistance',y='Sales',figsize=(12,3),title=\"Sales vs CompetitionDistance\")"
   ]
  },
  {
   "cell_type": "markdown",
   "metadata": {
    "id": "jwtfxSOTGcPV"
   },
   "source": [
    "* CompetitionDistance is the distance in meters to the nearest competitor store, the more nearer the two stores are the more sales can be seen"
   ]
  },
  {
   "cell_type": "markdown",
   "metadata": {
    "id": "7FOvG0_rGcPW"
   },
   "source": [
    "### Finding Outliers"
   ]
  },
  {
   "cell_type": "code",
   "execution_count": 32,
   "metadata": {
    "id": "mZEY29FaGcPX",
    "outputId": "ad01dfc3-1014-4d55-8b9e-2c7926cde6e3"
   },
   "outputs": [
    {
     "name": "stderr",
     "output_type": "stream",
     "text": [
      "C:\\ProgramData\\anaconda3\\Lib\\site-packages\\seaborn\\_oldcore.py:1119: FutureWarning: use_inf_as_na option is deprecated and will be removed in a future version. Convert inf values to NaN before operating instead.\n",
      "  with pd.option_context('mode.use_inf_as_na', True):\n"
     ]
    },
    {
     "data": {
      "text/plain": [
       "<seaborn.axisgrid.FacetGrid at 0x22f837134d0>"
      ]
     },
     "execution_count": 32,
     "metadata": {},
     "output_type": "execute_result"
    },
    {
     "data": {
      "image/png": "[encoded data removed]",
      "text/plain": [
       "<Figure size 450x300 with 1 Axes>"
      ]
     },
     "metadata": {},
     "output_type": "display_data"
    }
   ],
   "source": [
    "# checking distribution of sales \n",
    "sns.displot(combined_data, x=\"Sales\",bins=50, height=3, aspect=1.5).set(title='Distribution of Sales')"
   ]
  },
  {
   "cell_type": "markdown",
   "metadata": {
    "id": "SwG_qitZGcPX"
   },
   "source": [
    "**Observation**: Sales greater than 30k can be considered outliers"
   ]
  },
  {
   "cell_type": "code",
   "execution_count": 34,
   "metadata": {
    "id": "HGCU11wvGcPa",
    "outputId": "159dc6f5-06ed-4a45-be85-7a80309fa682"
   },
   "outputs": [
    {
     "name": "stdout",
     "output_type": "stream",
     "text": [
      "Length of actual dataset: 1017209\n",
      "Length of data where sales is 0: 172871  which is 16.994639253093514 % of the whole data\n",
      "Length of data which is greater than 30: 153 which is  0.015041156733768577 % of the whole data\n"
     ]
    }
   ],
   "source": [
    "# Looking for outliers\n",
    "sales_zero = combined_data.loc[combined_data['Sales'] == 0] \n",
    "sales_greater_than_30k = combined_data.loc[combined_data['Sales'] > 30000]\n",
    "\n",
    "print(\"Length of actual dataset:\", len(combined_data))\n",
    "print(\"Length of data where sales is 0:\", len(sales_zero),\n",
    "      \" which is\", len(sales_zero)/len(combined_data)*100, \"% of the whole data\", )\n",
    "\n",
    "print(\"Length of data which is greater than 30:\", len(sales_greater_than_30k),\n",
    "      \"which is \", len(sales_greater_than_30k)/len(combined_data)*100, \"% of the whole data\")"
   ]
  },
  {
   "cell_type": "markdown",
   "metadata": {
    "id": "cNquk7dpGcPa"
   },
   "source": [
    "* Droping sales which are greater than 30k as they are very less in the dataset and are probably outliers"
   ]
  },
  {
   "cell_type": "code",
   "execution_count": 35,
   "metadata": {
    "id": "2oh27_EUGcPb",
    "outputId": "59d4e0eb-1def-45ae-d0ab-30a6e8cd3eb0"
   },
   "outputs": [
    {
     "data": {
      "text/plain": [
       "(1017056, 21)"
      ]
     },
     "execution_count": 35,
     "metadata": {},
     "output_type": "execute_result"
    }
   ],
   "source": [
    "combined_data.drop(combined_data.loc[combined_data['Sales'] > 30000].index,inplace=True)\n",
    "combined_data.shape"
   ]
  },
  {
   "cell_type": "markdown",
   "metadata": {
    "id": "LDAvx1U1GcPd"
   },
   "source": [
    "## Further EDA - exploring exceptional cases\n",
    "Looking for a scenerio where the Stores are open and yet there is no sales on that day"
   ]
  },
  {
   "cell_type": "code",
   "execution_count": 36,
   "metadata": {
    "id": "FaCWrhVNGcPd",
    "outputId": "fa31b056-9aa1-4203-822d-5749599ed2ce"
   },
   "outputs": [
    {
     "name": "stdout",
     "output_type": "stream",
     "text": [
      "Size of the data where sales were zero even when stores were open:  12\n"
     ]
    },
    {
     "data": {
      "text/html": [
       "<div>\n",
       "<style scoped>\n",
       "    .dataframe tbody tr th:only-of-type {\n",
       "        vertical-align: middle;\n",
       "    }\n",
       "\n",
       "    .dataframe tbody tr th {\n",
       "        vertical-align: top;\n",
       "    }\n",
       "\n",
       "    .dataframe thead th {\n",
       "        text-align: right;\n",
       "    }\n",
       "</style>\n",
       "<table border=\"1\" class=\"dataframe\">\n",
       "  <thead>\n",
       "    <tr style=\"text-align: right;\">\n",
       "      <th></th>\n",
       "      <th>Store</th>\n",
       "      <th>DayOfWeek</th>\n",
       "      <th>Date</th>\n",
       "      <th>Sales</th>\n",
       "      <th>Customers</th>\n",
       "      <th>Open</th>\n",
       "      <th>Promo</th>\n",
       "      <th>StateHoliday</th>\n",
       "      <th>SchoolHoliday</th>\n",
       "      <th>StoreType</th>\n",
       "      <th>...</th>\n",
       "      <th>CompetitionDistance</th>\n",
       "      <th>CompetitionOpenSinceMonth</th>\n",
       "      <th>CompetitionOpenSinceYear</th>\n",
       "      <th>Promo2</th>\n",
       "      <th>Promo2SinceWeek</th>\n",
       "      <th>Promo2SinceYear</th>\n",
       "      <th>PromoInterval</th>\n",
       "      <th>CompetitionDistance_raw</th>\n",
       "      <th>CompetitionOpenSinceMonth_raw</th>\n",
       "      <th>CompetitionOpenSinceYear_raw</th>\n",
       "    </tr>\n",
       "  </thead>\n",
       "  <tbody>\n",
       "    <tr>\n",
       "      <th>22589</th>\n",
       "      <td>25</td>\n",
       "      <td>4</td>\n",
       "      <td>2014-02-13</td>\n",
       "      <td>0</td>\n",
       "      <td>0</td>\n",
       "      <td>1</td>\n",
       "      <td>0</td>\n",
       "      <td>0</td>\n",
       "      <td>0</td>\n",
       "      <td>c</td>\n",
       "      <td>...</td>\n",
       "      <td>430.0</td>\n",
       "      <td>4.0</td>\n",
       "      <td>2003.0</td>\n",
       "      <td>0</td>\n",
       "      <td>0.0</td>\n",
       "      <td>0.0</td>\n",
       "      <td>0</td>\n",
       "      <td>430.0</td>\n",
       "      <td>4.0</td>\n",
       "      <td>2003.0</td>\n",
       "    </tr>\n",
       "    <tr>\n",
       "      <th>22590</th>\n",
       "      <td>25</td>\n",
       "      <td>3</td>\n",
       "      <td>2014-02-12</td>\n",
       "      <td>0</td>\n",
       "      <td>0</td>\n",
       "      <td>1</td>\n",
       "      <td>0</td>\n",
       "      <td>0</td>\n",
       "      <td>0</td>\n",
       "      <td>c</td>\n",
       "      <td>...</td>\n",
       "      <td>430.0</td>\n",
       "      <td>4.0</td>\n",
       "      <td>2003.0</td>\n",
       "      <td>0</td>\n",
       "      <td>0.0</td>\n",
       "      <td>0.0</td>\n",
       "      <td>0</td>\n",
       "      <td>430.0</td>\n",
       "      <td>4.0</td>\n",
       "      <td>2003.0</td>\n",
       "    </tr>\n",
       "    <tr>\n",
       "      <th>25212</th>\n",
       "      <td>28</td>\n",
       "      <td>4</td>\n",
       "      <td>2014-09-04</td>\n",
       "      <td>0</td>\n",
       "      <td>0</td>\n",
       "      <td>1</td>\n",
       "      <td>1</td>\n",
       "      <td>0</td>\n",
       "      <td>0</td>\n",
       "      <td>a</td>\n",
       "      <td>...</td>\n",
       "      <td>1200.0</td>\n",
       "      <td>10.0</td>\n",
       "      <td>2014.0</td>\n",
       "      <td>1</td>\n",
       "      <td>6.0</td>\n",
       "      <td>2015.0</td>\n",
       "      <td>Mar,Jun,Sept,Dec</td>\n",
       "      <td>1200.0</td>\n",
       "      <td>10.0</td>\n",
       "      <td>2014.0</td>\n",
       "    </tr>\n",
       "    <tr>\n",
       "      <th>205303</th>\n",
       "      <td>227</td>\n",
       "      <td>4</td>\n",
       "      <td>2014-09-11</td>\n",
       "      <td>0</td>\n",
       "      <td>0</td>\n",
       "      <td>1</td>\n",
       "      <td>0</td>\n",
       "      <td>0</td>\n",
       "      <td>0</td>\n",
       "      <td>a</td>\n",
       "      <td>...</td>\n",
       "      <td>2370.0</td>\n",
       "      <td>9.0</td>\n",
       "      <td>2013.0</td>\n",
       "      <td>0</td>\n",
       "      <td>0.0</td>\n",
       "      <td>0.0</td>\n",
       "      <td>0</td>\n",
       "      <td>2370.0</td>\n",
       "      <td>NaN</td>\n",
       "      <td>NaN</td>\n",
       "    </tr>\n",
       "    <tr>\n",
       "      <th>297110</th>\n",
       "      <td>327</td>\n",
       "      <td>3</td>\n",
       "      <td>2014-03-12</td>\n",
       "      <td>0</td>\n",
       "      <td>0</td>\n",
       "      <td>1</td>\n",
       "      <td>0</td>\n",
       "      <td>0</td>\n",
       "      <td>0</td>\n",
       "      <td>c</td>\n",
       "      <td>...</td>\n",
       "      <td>1390.0</td>\n",
       "      <td>12.0</td>\n",
       "      <td>2004.0</td>\n",
       "      <td>0</td>\n",
       "      <td>0.0</td>\n",
       "      <td>0.0</td>\n",
       "      <td>0</td>\n",
       "      <td>1390.0</td>\n",
       "      <td>12.0</td>\n",
       "      <td>2004.0</td>\n",
       "    </tr>\n",
       "  </tbody>\n",
       "</table>\n",
       "<p>5 rows × 21 columns</p>\n",
       "</div>"
      ],
      "text/plain": [
       "        Store  DayOfWeek        Date  Sales  Customers  Open  Promo  \\\n",
       "22589      25          4  2014-02-13      0          0     1      0   \n",
       "22590      25          3  2014-02-12      0          0     1      0   \n",
       "25212      28          4  2014-09-04      0          0     1      1   \n",
       "205303    227          4  2014-09-11      0          0     1      0   \n",
       "297110    327          3  2014-03-12      0          0     1      0   \n",
       "\n",
       "       StateHoliday  SchoolHoliday StoreType  ... CompetitionDistance  \\\n",
       "22589             0              0         c  ...               430.0   \n",
       "22590             0              0         c  ...               430.0   \n",
       "25212             0              0         a  ...              1200.0   \n",
       "205303            0              0         a  ...              2370.0   \n",
       "297110            0              0         c  ...              1390.0   \n",
       "\n",
       "        CompetitionOpenSinceMonth  CompetitionOpenSinceYear  Promo2  \\\n",
       "22589                         4.0                    2003.0       0   \n",
       "22590                         4.0                    2003.0       0   \n",
       "25212                        10.0                    2014.0       1   \n",
       "205303                        9.0                    2013.0       0   \n",
       "297110                       12.0                    2004.0       0   \n",
       "\n",
       "        Promo2SinceWeek  Promo2SinceYear     PromoInterval  \\\n",
       "22589               0.0              0.0                 0   \n",
       "22590               0.0              0.0                 0   \n",
       "25212               6.0           2015.0  Mar,Jun,Sept,Dec   \n",
       "205303              0.0              0.0                 0   \n",
       "297110              0.0              0.0                 0   \n",
       "\n",
       "       CompetitionDistance_raw  CompetitionOpenSinceMonth_raw  \\\n",
       "22589                    430.0                            4.0   \n",
       "22590                    430.0                            4.0   \n",
       "25212                   1200.0                           10.0   \n",
       "205303                  2370.0                            NaN   \n",
       "297110                  1390.0                           12.0   \n",
       "\n",
       "        CompetitionOpenSinceYear_raw  \n",
       "22589                         2003.0  \n",
       "22590                         2003.0  \n",
       "25212                         2014.0  \n",
       "205303                           NaN  \n",
       "297110                        2004.0  \n",
       "\n",
       "[5 rows x 21 columns]"
      ]
     },
     "execution_count": 36,
     "metadata": {},
     "output_type": "execute_result"
    }
   ],
   "source": [
    "# no sales when Stores were Open\n",
    "no_holiday_zero_sales = combined_data.loc[(combined_data['Sales'] == 0) & (combined_data['Open'] == 1) & \n",
    "                                          (combined_data['StateHoliday'] == 0) & (combined_data['SchoolHoliday'] == 0)]\n",
    "\n",
    "print(\"Size of the data where sales were zero even when stores were open: \",len(no_holiday_zero_sales))\n",
    "no_holiday_zero_sales.head()"
   ]
  },
  {
   "cell_type": "markdown",
   "metadata": {
    "id": "Yuscx2O6GcPe"
   },
   "source": [
    "* Removing these data points too as they are an exceptional case"
   ]
  },
  {
   "cell_type": "code",
   "execution_count": 38,
   "metadata": {
    "id": "Dtpljkc6GcPe",
    "outputId": "5064ed46-8bf1-40f2-8a53-e9be6eaad89d"
   },
   "outputs": [
    {
     "data": {
      "text/html": [
       "<div>\n",
       "<style scoped>\n",
       "    .dataframe tbody tr th:only-of-type {\n",
       "        vertical-align: middle;\n",
       "    }\n",
       "\n",
       "    .dataframe tbody tr th {\n",
       "        vertical-align: top;\n",
       "    }\n",
       "\n",
       "    .dataframe thead th {\n",
       "        text-align: right;\n",
       "    }\n",
       "</style>\n",
       "<table border=\"1\" class=\"dataframe\">\n",
       "  <thead>\n",
       "    <tr style=\"text-align: right;\">\n",
       "      <th></th>\n",
       "      <th>Store</th>\n",
       "      <th>DayOfWeek</th>\n",
       "      <th>Date</th>\n",
       "      <th>Sales</th>\n",
       "      <th>Customers</th>\n",
       "      <th>Open</th>\n",
       "      <th>Promo</th>\n",
       "      <th>StateHoliday</th>\n",
       "      <th>SchoolHoliday</th>\n",
       "      <th>StoreType</th>\n",
       "      <th>...</th>\n",
       "      <th>CompetitionDistance</th>\n",
       "      <th>CompetitionOpenSinceMonth</th>\n",
       "      <th>CompetitionOpenSinceYear</th>\n",
       "      <th>Promo2</th>\n",
       "      <th>Promo2SinceWeek</th>\n",
       "      <th>Promo2SinceYear</th>\n",
       "      <th>PromoInterval</th>\n",
       "      <th>CompetitionDistance_raw</th>\n",
       "      <th>CompetitionOpenSinceMonth_raw</th>\n",
       "      <th>CompetitionOpenSinceYear_raw</th>\n",
       "    </tr>\n",
       "  </thead>\n",
       "  <tbody>\n",
       "    <tr>\n",
       "      <th>0</th>\n",
       "      <td>1</td>\n",
       "      <td>5</td>\n",
       "      <td>2015-07-31</td>\n",
       "      <td>5263</td>\n",
       "      <td>555</td>\n",
       "      <td>1</td>\n",
       "      <td>1</td>\n",
       "      <td>0</td>\n",
       "      <td>1</td>\n",
       "      <td>c</td>\n",
       "      <td>...</td>\n",
       "      <td>1270.0</td>\n",
       "      <td>9.0</td>\n",
       "      <td>2008.0</td>\n",
       "      <td>0</td>\n",
       "      <td>0.0</td>\n",
       "      <td>0.0</td>\n",
       "      <td>0</td>\n",
       "      <td>1270.0</td>\n",
       "      <td>9.0</td>\n",
       "      <td>2008.0</td>\n",
       "    </tr>\n",
       "    <tr>\n",
       "      <th>1</th>\n",
       "      <td>1</td>\n",
       "      <td>4</td>\n",
       "      <td>2015-07-30</td>\n",
       "      <td>5020</td>\n",
       "      <td>546</td>\n",
       "      <td>1</td>\n",
       "      <td>1</td>\n",
       "      <td>0</td>\n",
       "      <td>1</td>\n",
       "      <td>c</td>\n",
       "      <td>...</td>\n",
       "      <td>1270.0</td>\n",
       "      <td>9.0</td>\n",
       "      <td>2008.0</td>\n",
       "      <td>0</td>\n",
       "      <td>0.0</td>\n",
       "      <td>0.0</td>\n",
       "      <td>0</td>\n",
       "      <td>1270.0</td>\n",
       "      <td>9.0</td>\n",
       "      <td>2008.0</td>\n",
       "    </tr>\n",
       "    <tr>\n",
       "      <th>2</th>\n",
       "      <td>1</td>\n",
       "      <td>3</td>\n",
       "      <td>2015-07-29</td>\n",
       "      <td>4782</td>\n",
       "      <td>523</td>\n",
       "      <td>1</td>\n",
       "      <td>1</td>\n",
       "      <td>0</td>\n",
       "      <td>1</td>\n",
       "      <td>c</td>\n",
       "      <td>...</td>\n",
       "      <td>1270.0</td>\n",
       "      <td>9.0</td>\n",
       "      <td>2008.0</td>\n",
       "      <td>0</td>\n",
       "      <td>0.0</td>\n",
       "      <td>0.0</td>\n",
       "      <td>0</td>\n",
       "      <td>1270.0</td>\n",
       "      <td>9.0</td>\n",
       "      <td>2008.0</td>\n",
       "    </tr>\n",
       "    <tr>\n",
       "      <th>3</th>\n",
       "      <td>1</td>\n",
       "      <td>2</td>\n",
       "      <td>2015-07-28</td>\n",
       "      <td>5011</td>\n",
       "      <td>560</td>\n",
       "      <td>1</td>\n",
       "      <td>1</td>\n",
       "      <td>0</td>\n",
       "      <td>1</td>\n",
       "      <td>c</td>\n",
       "      <td>...</td>\n",
       "      <td>1270.0</td>\n",
       "      <td>9.0</td>\n",
       "      <td>2008.0</td>\n",
       "      <td>0</td>\n",
       "      <td>0.0</td>\n",
       "      <td>0.0</td>\n",
       "      <td>0</td>\n",
       "      <td>1270.0</td>\n",
       "      <td>9.0</td>\n",
       "      <td>2008.0</td>\n",
       "    </tr>\n",
       "    <tr>\n",
       "      <th>4</th>\n",
       "      <td>1</td>\n",
       "      <td>1</td>\n",
       "      <td>2015-07-27</td>\n",
       "      <td>6102</td>\n",
       "      <td>612</td>\n",
       "      <td>1</td>\n",
       "      <td>1</td>\n",
       "      <td>0</td>\n",
       "      <td>1</td>\n",
       "      <td>c</td>\n",
       "      <td>...</td>\n",
       "      <td>1270.0</td>\n",
       "      <td>9.0</td>\n",
       "      <td>2008.0</td>\n",
       "      <td>0</td>\n",
       "      <td>0.0</td>\n",
       "      <td>0.0</td>\n",
       "      <td>0</td>\n",
       "      <td>1270.0</td>\n",
       "      <td>9.0</td>\n",
       "      <td>2008.0</td>\n",
       "    </tr>\n",
       "  </tbody>\n",
       "</table>\n",
       "<p>5 rows × 21 columns</p>\n",
       "</div>"
      ],
      "text/plain": [
       "   Store  DayOfWeek        Date  Sales  Customers  Open  Promo StateHoliday  \\\n",
       "0      1          5  2015-07-31   5263        555     1      1            0   \n",
       "1      1          4  2015-07-30   5020        546     1      1            0   \n",
       "2      1          3  2015-07-29   4782        523     1      1            0   \n",
       "3      1          2  2015-07-28   5011        560     1      1            0   \n",
       "4      1          1  2015-07-27   6102        612     1      1            0   \n",
       "\n",
       "   SchoolHoliday StoreType  ... CompetitionDistance  \\\n",
       "0              1         c  ...              1270.0   \n",
       "1              1         c  ...              1270.0   \n",
       "2              1         c  ...              1270.0   \n",
       "3              1         c  ...              1270.0   \n",
       "4              1         c  ...              1270.0   \n",
       "\n",
       "   CompetitionOpenSinceMonth  CompetitionOpenSinceYear  Promo2  \\\n",
       "0                        9.0                    2008.0       0   \n",
       "1                        9.0                    2008.0       0   \n",
       "2                        9.0                    2008.0       0   \n",
       "3                        9.0                    2008.0       0   \n",
       "4                        9.0                    2008.0       0   \n",
       "\n",
       "   Promo2SinceWeek  Promo2SinceYear  PromoInterval CompetitionDistance_raw  \\\n",
       "0              0.0              0.0              0                  1270.0   \n",
       "1              0.0              0.0              0                  1270.0   \n",
       "2              0.0              0.0              0                  1270.0   \n",
       "3              0.0              0.0              0                  1270.0   \n",
       "4              0.0              0.0              0                  1270.0   \n",
       "\n",
       "   CompetitionOpenSinceMonth_raw  CompetitionOpenSinceYear_raw  \n",
       "0                            9.0                        2008.0  \n",
       "1                            9.0                        2008.0  \n",
       "2                            9.0                        2008.0  \n",
       "3                            9.0                        2008.0  \n",
       "4                            9.0                        2008.0  \n",
       "\n",
       "[5 rows x 21 columns]"
      ]
     },
     "execution_count": 38,
     "metadata": {},
     "output_type": "execute_result"
    }
   ],
   "source": [
    "combined_data.drop(no_holiday_zero_sales.index,inplace=True)\n",
    "combined_data.head()"
   ]
  },
  {
   "cell_type": "markdown",
   "metadata": {
    "id": "oE02iobTGcPg"
   },
   "source": [
    "## Converting Categorical Variable to Numeric"
   ]
  },
  {
   "cell_type": "code",
   "execution_count": 40,
   "metadata": {
    "id": "YzBZPMh_GcPh"
   },
   "outputs": [],
   "source": [
    "# extracting year and month from Date \n",
    "combined_data['Year']  = combined_data['Date'].apply(lambda x: int(str(x)[:4]))\n",
    "combined_data['Month'] = combined_data['Date'].apply(lambda x: int(str(x)[5:7]))\n",
    "combined_data.drop(['Date'],axis=1,inplace=True)"
   ]
  },
  {
   "cell_type": "code",
   "execution_count": 41,
   "metadata": {
    "id": "28ZokROmGcPh",
    "outputId": "fe11ab3b-eb6a-4991-9e59-96956e5fc823"
   },
   "outputs": [
    {
     "data": {
      "text/html": [
       "<div>\n",
       "<style scoped>\n",
       "    .dataframe tbody tr th:only-of-type {\n",
       "        vertical-align: middle;\n",
       "    }\n",
       "\n",
       "    .dataframe tbody tr th {\n",
       "        vertical-align: top;\n",
       "    }\n",
       "\n",
       "    .dataframe thead th {\n",
       "        text-align: right;\n",
       "    }\n",
       "</style>\n",
       "<table border=\"1\" class=\"dataframe\">\n",
       "  <thead>\n",
       "    <tr style=\"text-align: right;\">\n",
       "      <th></th>\n",
       "      <th>Store</th>\n",
       "      <th>DayOfWeek</th>\n",
       "      <th>Sales</th>\n",
       "      <th>Customers</th>\n",
       "      <th>Open</th>\n",
       "      <th>Promo</th>\n",
       "      <th>StateHoliday</th>\n",
       "      <th>SchoolHoliday</th>\n",
       "      <th>StoreType</th>\n",
       "      <th>Assortment</th>\n",
       "      <th>...</th>\n",
       "      <th>CompetitionOpenSinceYear</th>\n",
       "      <th>Promo2</th>\n",
       "      <th>Promo2SinceWeek</th>\n",
       "      <th>Promo2SinceYear</th>\n",
       "      <th>PromoInterval</th>\n",
       "      <th>CompetitionDistance_raw</th>\n",
       "      <th>CompetitionOpenSinceMonth_raw</th>\n",
       "      <th>CompetitionOpenSinceYear_raw</th>\n",
       "      <th>Year</th>\n",
       "      <th>Month</th>\n",
       "    </tr>\n",
       "  </thead>\n",
       "  <tbody>\n",
       "    <tr>\n",
       "      <th>0</th>\n",
       "      <td>1</td>\n",
       "      <td>5</td>\n",
       "      <td>5263</td>\n",
       "      <td>555</td>\n",
       "      <td>1</td>\n",
       "      <td>1</td>\n",
       "      <td>0</td>\n",
       "      <td>1</td>\n",
       "      <td>c</td>\n",
       "      <td>a</td>\n",
       "      <td>...</td>\n",
       "      <td>2008.0</td>\n",
       "      <td>0</td>\n",
       "      <td>0.0</td>\n",
       "      <td>0.0</td>\n",
       "      <td>0</td>\n",
       "      <td>1270.0</td>\n",
       "      <td>9.0</td>\n",
       "      <td>2008.0</td>\n",
       "      <td>2015</td>\n",
       "      <td>7</td>\n",
       "    </tr>\n",
       "    <tr>\n",
       "      <th>1</th>\n",
       "      <td>1</td>\n",
       "      <td>4</td>\n",
       "      <td>5020</td>\n",
       "      <td>546</td>\n",
       "      <td>1</td>\n",
       "      <td>1</td>\n",
       "      <td>0</td>\n",
       "      <td>1</td>\n",
       "      <td>c</td>\n",
       "      <td>a</td>\n",
       "      <td>...</td>\n",
       "      <td>2008.0</td>\n",
       "      <td>0</td>\n",
       "      <td>0.0</td>\n",
       "      <td>0.0</td>\n",
       "      <td>0</td>\n",
       "      <td>1270.0</td>\n",
       "      <td>9.0</td>\n",
       "      <td>2008.0</td>\n",
       "      <td>2015</td>\n",
       "      <td>7</td>\n",
       "    </tr>\n",
       "    <tr>\n",
       "      <th>2</th>\n",
       "      <td>1</td>\n",
       "      <td>3</td>\n",
       "      <td>4782</td>\n",
       "      <td>523</td>\n",
       "      <td>1</td>\n",
       "      <td>1</td>\n",
       "      <td>0</td>\n",
       "      <td>1</td>\n",
       "      <td>c</td>\n",
       "      <td>a</td>\n",
       "      <td>...</td>\n",
       "      <td>2008.0</td>\n",
       "      <td>0</td>\n",
       "      <td>0.0</td>\n",
       "      <td>0.0</td>\n",
       "      <td>0</td>\n",
       "      <td>1270.0</td>\n",
       "      <td>9.0</td>\n",
       "      <td>2008.0</td>\n",
       "      <td>2015</td>\n",
       "      <td>7</td>\n",
       "    </tr>\n",
       "    <tr>\n",
       "      <th>3</th>\n",
       "      <td>1</td>\n",
       "      <td>2</td>\n",
       "      <td>5011</td>\n",
       "      <td>560</td>\n",
       "      <td>1</td>\n",
       "      <td>1</td>\n",
       "      <td>0</td>\n",
       "      <td>1</td>\n",
       "      <td>c</td>\n",
       "      <td>a</td>\n",
       "      <td>...</td>\n",
       "      <td>2008.0</td>\n",
       "      <td>0</td>\n",
       "      <td>0.0</td>\n",
       "      <td>0.0</td>\n",
       "      <td>0</td>\n",
       "      <td>1270.0</td>\n",
       "      <td>9.0</td>\n",
       "      <td>2008.0</td>\n",
       "      <td>2015</td>\n",
       "      <td>7</td>\n",
       "    </tr>\n",
       "    <tr>\n",
       "      <th>4</th>\n",
       "      <td>1</td>\n",
       "      <td>1</td>\n",
       "      <td>6102</td>\n",
       "      <td>612</td>\n",
       "      <td>1</td>\n",
       "      <td>1</td>\n",
       "      <td>0</td>\n",
       "      <td>1</td>\n",
       "      <td>c</td>\n",
       "      <td>a</td>\n",
       "      <td>...</td>\n",
       "      <td>2008.0</td>\n",
       "      <td>0</td>\n",
       "      <td>0.0</td>\n",
       "      <td>0.0</td>\n",
       "      <td>0</td>\n",
       "      <td>1270.0</td>\n",
       "      <td>9.0</td>\n",
       "      <td>2008.0</td>\n",
       "      <td>2015</td>\n",
       "      <td>7</td>\n",
       "    </tr>\n",
       "  </tbody>\n",
       "</table>\n",
       "<p>5 rows × 22 columns</p>\n",
       "</div>"
      ],
      "text/plain": [
       "   Store  DayOfWeek  Sales  Customers  Open  Promo StateHoliday  \\\n",
       "0      1          5   5263        555     1      1            0   \n",
       "1      1          4   5020        546     1      1            0   \n",
       "2      1          3   4782        523     1      1            0   \n",
       "3      1          2   5011        560     1      1            0   \n",
       "4      1          1   6102        612     1      1            0   \n",
       "\n",
       "   SchoolHoliday StoreType Assortment  ...  CompetitionOpenSinceYear  Promo2  \\\n",
       "0              1         c          a  ...                    2008.0       0   \n",
       "1              1         c          a  ...                    2008.0       0   \n",
       "2              1         c          a  ...                    2008.0       0   \n",
       "3              1         c          a  ...                    2008.0       0   \n",
       "4              1         c          a  ...                    2008.0       0   \n",
       "\n",
       "   Promo2SinceWeek  Promo2SinceYear  PromoInterval  CompetitionDistance_raw  \\\n",
       "0              0.0              0.0              0                   1270.0   \n",
       "1              0.0              0.0              0                   1270.0   \n",
       "2              0.0              0.0              0                   1270.0   \n",
       "3              0.0              0.0              0                   1270.0   \n",
       "4              0.0              0.0              0                   1270.0   \n",
       "\n",
       "  CompetitionOpenSinceMonth_raw  CompetitionOpenSinceYear_raw  Year  Month  \n",
       "0                           9.0                        2008.0  2015      7  \n",
       "1                           9.0                        2008.0  2015      7  \n",
       "2                           9.0                        2008.0  2015      7  \n",
       "3                           9.0                        2008.0  2015      7  \n",
       "4                           9.0                        2008.0  2015      7  \n",
       "\n",
       "[5 rows x 22 columns]"
      ]
     },
     "execution_count": 41,
     "metadata": {},
     "output_type": "execute_result"
    }
   ],
   "source": [
    "combined_data.head()"
   ]
  },
  {
   "cell_type": "code",
   "execution_count": 42,
   "metadata": {
    "id": "swM6GjTFGcPi",
    "outputId": "fede20d3-1ebd-445e-afa6-3889a397d4c9"
   },
   "outputs": [
    {
     "name": "stderr",
     "output_type": "stream",
     "text": [
      "C:\\Users\\Ankit\\AppData\\Local\\Temp\\ipykernel_20356\\1650205592.py:9: SettingWithCopyWarning: \n",
      "A value is trying to be set on a copy of a slice from a DataFrame\n",
      "\n",
      "See the caveats in the documentation: https://pandas.pydata.org/pandas-docs/stable/user_guide/indexing.html#returning-a-view-versus-a-copy\n",
      "  combined_data[\"PromoInterval\"].loc[combined_data[\"PromoInterval\"] == \"Jan,Apr,Jul,Oct\"] = 1\n",
      "C:\\Users\\Ankit\\AppData\\Local\\Temp\\ipykernel_20356\\1650205592.py:10: SettingWithCopyWarning: \n",
      "A value is trying to be set on a copy of a slice from a DataFrame\n",
      "\n",
      "See the caveats in the documentation: https://pandas.pydata.org/pandas-docs/stable/user_guide/indexing.html#returning-a-view-versus-a-copy\n",
      "  combined_data[\"PromoInterval\"].loc[combined_data[\"PromoInterval\"] == \"Feb,May,Aug,Nov\"] = 2\n",
      "C:\\Users\\Ankit\\AppData\\Local\\Temp\\ipykernel_20356\\1650205592.py:11: SettingWithCopyWarning: \n",
      "A value is trying to be set on a copy of a slice from a DataFrame\n",
      "\n",
      "See the caveats in the documentation: https://pandas.pydata.org/pandas-docs/stable/user_guide/indexing.html#returning-a-view-versus-a-copy\n",
      "  combined_data[\"PromoInterval\"].loc[combined_data[\"PromoInterval\"] == \"Mar,Jun,Sept,Dec\"] = 3\n",
      "C:\\Users\\Ankit\\AppData\\Local\\Temp\\ipykernel_20356\\1650205592.py:28: SettingWithCopyWarning: \n",
      "A value is trying to be set on a copy of a slice from a DataFrame\n",
      "\n",
      "See the caveats in the documentation: https://pandas.pydata.org/pandas-docs/stable/user_guide/indexing.html#returning-a-view-versus-a-copy\n",
      "  combined_data[\"StateHoliday\"].loc[combined_data[\"StateHoliday\"] == \"a\"] = 1\n",
      "C:\\Users\\Ankit\\AppData\\Local\\Temp\\ipykernel_20356\\1650205592.py:29: SettingWithCopyWarning: \n",
      "A value is trying to be set on a copy of a slice from a DataFrame\n",
      "\n",
      "See the caveats in the documentation: https://pandas.pydata.org/pandas-docs/stable/user_guide/indexing.html#returning-a-view-versus-a-copy\n",
      "  combined_data[\"StateHoliday\"].loc[combined_data[\"StateHoliday\"] == \"b\"] = 2\n",
      "C:\\Users\\Ankit\\AppData\\Local\\Temp\\ipykernel_20356\\1650205592.py:30: SettingWithCopyWarning: \n",
      "A value is trying to be set on a copy of a slice from a DataFrame\n",
      "\n",
      "See the caveats in the documentation: https://pandas.pydata.org/pandas-docs/stable/user_guide/indexing.html#returning-a-view-versus-a-copy\n",
      "  combined_data[\"StateHoliday\"].loc[combined_data[\"StateHoliday\"] == \"c\"] = 3\n"
     ]
    },
    {
     "data": {
      "text/html": [
       "<div>\n",
       "<style scoped>\n",
       "    .dataframe tbody tr th:only-of-type {\n",
       "        vertical-align: middle;\n",
       "    }\n",
       "\n",
       "    .dataframe tbody tr th {\n",
       "        vertical-align: top;\n",
       "    }\n",
       "\n",
       "    .dataframe thead th {\n",
       "        text-align: right;\n",
       "    }\n",
       "</style>\n",
       "<table border=\"1\" class=\"dataframe\">\n",
       "  <thead>\n",
       "    <tr style=\"text-align: right;\">\n",
       "      <th></th>\n",
       "      <th>Store</th>\n",
       "      <th>DayOfWeek</th>\n",
       "      <th>Sales</th>\n",
       "      <th>Customers</th>\n",
       "      <th>Open</th>\n",
       "      <th>Promo</th>\n",
       "      <th>StateHoliday</th>\n",
       "      <th>SchoolHoliday</th>\n",
       "      <th>StoreType</th>\n",
       "      <th>Assortment</th>\n",
       "      <th>...</th>\n",
       "      <th>CompetitionOpenSinceYear</th>\n",
       "      <th>Promo2</th>\n",
       "      <th>Promo2SinceWeek</th>\n",
       "      <th>Promo2SinceYear</th>\n",
       "      <th>PromoInterval</th>\n",
       "      <th>CompetitionDistance_raw</th>\n",
       "      <th>CompetitionOpenSinceMonth_raw</th>\n",
       "      <th>CompetitionOpenSinceYear_raw</th>\n",
       "      <th>Year</th>\n",
       "      <th>Month</th>\n",
       "    </tr>\n",
       "  </thead>\n",
       "  <tbody>\n",
       "    <tr>\n",
       "      <th>0</th>\n",
       "      <td>1</td>\n",
       "      <td>5</td>\n",
       "      <td>5263</td>\n",
       "      <td>555</td>\n",
       "      <td>1</td>\n",
       "      <td>1</td>\n",
       "      <td>0</td>\n",
       "      <td>1</td>\n",
       "      <td>2</td>\n",
       "      <td>0</td>\n",
       "      <td>...</td>\n",
       "      <td>2008.0</td>\n",
       "      <td>0</td>\n",
       "      <td>0.0</td>\n",
       "      <td>0.0</td>\n",
       "      <td>0</td>\n",
       "      <td>1270.0</td>\n",
       "      <td>9.0</td>\n",
       "      <td>2008.0</td>\n",
       "      <td>2015</td>\n",
       "      <td>7</td>\n",
       "    </tr>\n",
       "    <tr>\n",
       "      <th>1</th>\n",
       "      <td>1</td>\n",
       "      <td>4</td>\n",
       "      <td>5020</td>\n",
       "      <td>546</td>\n",
       "      <td>1</td>\n",
       "      <td>1</td>\n",
       "      <td>0</td>\n",
       "      <td>1</td>\n",
       "      <td>2</td>\n",
       "      <td>0</td>\n",
       "      <td>...</td>\n",
       "      <td>2008.0</td>\n",
       "      <td>0</td>\n",
       "      <td>0.0</td>\n",
       "      <td>0.0</td>\n",
       "      <td>0</td>\n",
       "      <td>1270.0</td>\n",
       "      <td>9.0</td>\n",
       "      <td>2008.0</td>\n",
       "      <td>2015</td>\n",
       "      <td>7</td>\n",
       "    </tr>\n",
       "    <tr>\n",
       "      <th>2</th>\n",
       "      <td>1</td>\n",
       "      <td>3</td>\n",
       "      <td>4782</td>\n",
       "      <td>523</td>\n",
       "      <td>1</td>\n",
       "      <td>1</td>\n",
       "      <td>0</td>\n",
       "      <td>1</td>\n",
       "      <td>2</td>\n",
       "      <td>0</td>\n",
       "      <td>...</td>\n",
       "      <td>2008.0</td>\n",
       "      <td>0</td>\n",
       "      <td>0.0</td>\n",
       "      <td>0.0</td>\n",
       "      <td>0</td>\n",
       "      <td>1270.0</td>\n",
       "      <td>9.0</td>\n",
       "      <td>2008.0</td>\n",
       "      <td>2015</td>\n",
       "      <td>7</td>\n",
       "    </tr>\n",
       "    <tr>\n",
       "      <th>3</th>\n",
       "      <td>1</td>\n",
       "      <td>2</td>\n",
       "      <td>5011</td>\n",
       "      <td>560</td>\n",
       "      <td>1</td>\n",
       "      <td>1</td>\n",
       "      <td>0</td>\n",
       "      <td>1</td>\n",
       "      <td>2</td>\n",
       "      <td>0</td>\n",
       "      <td>...</td>\n",
       "      <td>2008.0</td>\n",
       "      <td>0</td>\n",
       "      <td>0.0</td>\n",
       "      <td>0.0</td>\n",
       "      <td>0</td>\n",
       "      <td>1270.0</td>\n",
       "      <td>9.0</td>\n",
       "      <td>2008.0</td>\n",
       "      <td>2015</td>\n",
       "      <td>7</td>\n",
       "    </tr>\n",
       "    <tr>\n",
       "      <th>4</th>\n",
       "      <td>1</td>\n",
       "      <td>1</td>\n",
       "      <td>6102</td>\n",
       "      <td>612</td>\n",
       "      <td>1</td>\n",
       "      <td>1</td>\n",
       "      <td>0</td>\n",
       "      <td>1</td>\n",
       "      <td>2</td>\n",
       "      <td>0</td>\n",
       "      <td>...</td>\n",
       "      <td>2008.0</td>\n",
       "      <td>0</td>\n",
       "      <td>0.0</td>\n",
       "      <td>0.0</td>\n",
       "      <td>0</td>\n",
       "      <td>1270.0</td>\n",
       "      <td>9.0</td>\n",
       "      <td>2008.0</td>\n",
       "      <td>2015</td>\n",
       "      <td>7</td>\n",
       "    </tr>\n",
       "  </tbody>\n",
       "</table>\n",
       "<p>5 rows × 22 columns</p>\n",
       "</div>"
      ],
      "text/plain": [
       "   Store  DayOfWeek  Sales  Customers  Open  Promo StateHoliday  \\\n",
       "0      1          5   5263        555     1      1            0   \n",
       "1      1          4   5020        546     1      1            0   \n",
       "2      1          3   4782        523     1      1            0   \n",
       "3      1          2   5011        560     1      1            0   \n",
       "4      1          1   6102        612     1      1            0   \n",
       "\n",
       "   SchoolHoliday  StoreType  Assortment  ...  CompetitionOpenSinceYear  \\\n",
       "0              1          2           0  ...                    2008.0   \n",
       "1              1          2           0  ...                    2008.0   \n",
       "2              1          2           0  ...                    2008.0   \n",
       "3              1          2           0  ...                    2008.0   \n",
       "4              1          2           0  ...                    2008.0   \n",
       "\n",
       "   Promo2  Promo2SinceWeek  Promo2SinceYear  PromoInterval  \\\n",
       "0       0              0.0              0.0              0   \n",
       "1       0              0.0              0.0              0   \n",
       "2       0              0.0              0.0              0   \n",
       "3       0              0.0              0.0              0   \n",
       "4       0              0.0              0.0              0   \n",
       "\n",
       "   CompetitionDistance_raw CompetitionOpenSinceMonth_raw  \\\n",
       "0                   1270.0                           9.0   \n",
       "1                   1270.0                           9.0   \n",
       "2                   1270.0                           9.0   \n",
       "3                   1270.0                           9.0   \n",
       "4                   1270.0                           9.0   \n",
       "\n",
       "   CompetitionOpenSinceYear_raw  Year  Month  \n",
       "0                        2008.0  2015      7  \n",
       "1                        2008.0  2015      7  \n",
       "2                        2008.0  2015      7  \n",
       "3                        2008.0  2015      7  \n",
       "4                        2008.0  2015      7  \n",
       "\n",
       "[5 rows x 22 columns]"
      ]
     },
     "execution_count": 42,
     "metadata": {},
     "output_type": "execute_result"
    }
   ],
   "source": [
    "# encoding all categorical varibale to numeric values\n",
    "from sklearn import preprocessing \n",
    "label_encoder = preprocessing.LabelEncoder()\n",
    "\n",
    "combined_data['StoreType']= label_encoder.fit_transform(combined_data['StoreType'])\n",
    "combined_data['Assortment']= label_encoder.fit_transform(combined_data['Assortment']) \n",
    "\n",
    "# for promo interval\n",
    "combined_data[\"PromoInterval\"].loc[combined_data[\"PromoInterval\"] == \"Jan,Apr,Jul,Oct\"] = 1\n",
    "combined_data[\"PromoInterval\"].loc[combined_data[\"PromoInterval\"] == \"Feb,May,Aug,Nov\"] = 2\n",
    "combined_data[\"PromoInterval\"].loc[combined_data[\"PromoInterval\"] == \"Mar,Jun,Sept,Dec\"] = 3\n",
    "'''\n",
    "new_promo_interval = []\n",
    "for i in range(len(combined_data)):\n",
    "    if combined_data['PromoInterval'][i] == 'Jan,Apr,Jul,Oct':\n",
    "        new_promo_interval.append(1)\n",
    "    elif combined_data['PromoInterval'][i] == 'Feb,May,Aug,Nov':\n",
    "        new_promo_interval.append(2)\n",
    "    elif combined_data['PromoInterval'][i] == 'Mar,Jun,Sept,Dec':\n",
    "        new_promo_interval.append(3)\n",
    "    else:\n",
    "        new_promo_interval.append(0)\n",
    "        \n",
    "combined_data['PromoInterval'] = new_promo_interval        \n",
    "'''\n",
    "\n",
    "# for State Holiday\n",
    "combined_data[\"StateHoliday\"].loc[combined_data[\"StateHoliday\"] == \"a\"] = 1\n",
    "combined_data[\"StateHoliday\"].loc[combined_data[\"StateHoliday\"] == \"b\"] = 2\n",
    "combined_data[\"StateHoliday\"].loc[combined_data[\"StateHoliday\"] == \"c\"] = 3\n",
    "\n",
    "'''\n",
    "state_holiday_list = []\n",
    "for i in range(len(combined_data)):\n",
    "    if combined_data['StateHoliday'][i] == 'a':\n",
    "        state_holiday_list.append(1)\n",
    "    elif combined_data['StateHoliday'][i] == 'b':\n",
    "        state_holiday_list.append(2)\n",
    "    elif combined_data['StateHoliday'][i] == 'c':\n",
    "        state_holiday_list.append(3)\n",
    "    else:\n",
    "        state_holiday_list.append(0)\n",
    "\n",
    "\n",
    "combined_data['StateHoliday'] = state_holiday_list\n",
    "'''\n",
    "combined_data.head()"
   ]
  },
  {
   "cell_type": "code",
   "execution_count": 43,
   "metadata": {
    "id": "UZamtuubGcPj"
   },
   "outputs": [],
   "source": [
    "combined_data['StateHoliday'] = pd.to_numeric(combined_data['StateHoliday'])\n",
    "combined_data['PromoInterval'] = pd.to_numeric(combined_data['PromoInterval'])"
   ]
  },
  {
   "cell_type": "code",
   "execution_count": 72,
   "metadata": {
    "id": "6Zwb6AuEGcPj",
    "outputId": "f1a4a81b-0871-4cc0-9ef8-28c919a11d34"
   },
   "outputs": [
    {
     "data": {
      "text/plain": [
       "<Figure size 2000x1000 with 0 Axes>"
      ]
     },
     "metadata": {},
     "output_type": "display_data"
    },
    {
     "data": {
      "image/png": "[encoded data removed]",
      "text/plain": [
       "<Figure size 600x400 with 2 Axes>"
      ]
     },
     "metadata": {},
     "output_type": "display_data"
    }
   ],
   "source": [
    "plt.figure(figsize=(20,10))\n",
    "\n",
    "cmap = sns.diverging_palette(220, 10, as_cmap=True)\n",
    "combined_data_corr = combined_data[['Customers', 'Sales', 'DayOfWeek', 'CompetitionDistance', 'Open', 'Promo']]\n",
    "\n",
    "plt.figure(figsize=(6,4))\n",
    "sns.heatmap(combined_data_corr.corr(),cmap=cmap, annot=True, fmt='.2f', vmin=-0.5, vmax=0.5, annot_kws={'size':8})\n",
    "plt.show()"
   ]
  },
  {
   "cell_type": "markdown",
   "metadata": {
    "id": "8m7qMUFlGcPl"
   },
   "source": [
    "**Observations**: Correlation map shows sales is highly correlated with Customers, Open and Promo"
   ]
  },
  {
   "cell_type": "markdown",
   "metadata": {
    "id": "0_YOPppsGcPl"
   },
   "source": [
    "## Implementing Models"
   ]
  },
  {
   "cell_type": "code",
   "execution_count": 74,
   "metadata": {
    "id": "mWyZ91PwGcPn"
   },
   "outputs": [],
   "source": [
    "from sklearn.model_selection import train_test_split\n",
    "from sklearn.metrics import r2_score\n",
    "from sklearn.metrics import mean_squared_error\n",
    "from sklearn.metrics import mean_absolute_error\n",
    "from sklearn.metrics import mean_absolute_percentage_error\n",
    "import math  "
   ]
  },
  {
   "cell_type": "code",
   "execution_count": 84,
   "metadata": {
    "id": "_9_viEc6GcPo"
   },
   "outputs": [],
   "source": [
    "combined_data_open = combined_data[combined_data['Open'] == 1]\n",
    "combined_data_closed = combined_data[combined_data['Open'] == 0]\n",
    "\n",
    "x_open = combined_data_open.drop(['Sales','Customers', 'Open', 'CompetitionDistance_raw', 'CompetitionOpenSinceMonth_raw', 'CompetitionOpenSinceYear_raw'],axis=1)\n",
    "y_open = combined_data_open['Sales']\n",
    "x_train, x_test_open, y_train, y_test_open = train_test_split(x_open,y_open,test_size=0.20)"
   ]
  },
  {
   "cell_type": "code",
   "execution_count": 85,
   "metadata": {
    "id": "_OWygLzlGcPo"
   },
   "outputs": [],
   "source": [
    "epsilon = 1e-10"
   ]
  },
  {
   "cell_type": "code",
   "execution_count": 86,
   "metadata": {
    "id": "O96uE5VdGcPp",
    "outputId": "fac47e19-7eb4-42c2-8209-2d228532d932"
   },
   "outputs": [
    {
     "data": {
      "text/plain": [
       "Index(['Store', 'DayOfWeek', 'Promo', 'StateHoliday', 'SchoolHoliday',\n",
       "       'StoreType', 'Assortment', 'CompetitionDistance',\n",
       "       'CompetitionOpenSinceMonth', 'CompetitionOpenSinceYear', 'Promo2',\n",
       "       'Promo2SinceWeek', 'Promo2SinceYear', 'PromoInterval', 'Year', 'Month'],\n",
       "      dtype='object')"
      ]
     },
     "execution_count": 86,
     "metadata": {},
     "output_type": "execute_result"
    }
   ],
   "source": [
    "x_train.columns"
   ]
  },
  {
   "cell_type": "markdown",
   "metadata": {
    "id": "ngbpQCoiGcPr"
   },
   "source": [
    "## Linear Regression"
   ]
  },
  {
   "cell_type": "code",
   "execution_count": 104,
   "metadata": {
    "id": "lrAaDpDJGcPr",
    "outputId": "dfe1c708-4d5e-44b4-8159-59505102c546"
   },
   "outputs": [
    {
     "name": "stdout",
     "output_type": "stream",
     "text": [
      "r2_score:  0.7748816250324797\n",
      "Mean absolute error: 996.88\n",
      "Root mean squared error:  1937.761216928402\n"
     ]
    },
    {
     "data": {
      "image/png": "[encoded data removed]",
      "text/plain": [
       "<Figure size 500x300 with 1 Axes>"
      ]
     },
     "metadata": {},
     "output_type": "display_data"
    }
   ],
   "source": [
    "from sklearn import linear_model\n",
    "\n",
    "lr_model = linear_model.LinearRegression() # making regression model\n",
    "lr_model.fit(x_train, y_train) \n",
    "y_pred_open = lr_model.predict(x_test_open)\n",
    "y_pred = np.append(y_pred_open, np.zeros(combined_data_closed.shape[0]))\n",
    "y_test = np.append(y_test_open, np.zeros(combined_data_closed.shape[0]))\n",
    "\n",
    "print(\"r2_score: \",r2_score(y_test,y_pred))\n",
    "print(\"Mean absolute error: %.2f\" % mean_absolute_error(y_test,y_pred))\n",
    "print(\"Root mean squared error: \", math.sqrt(mean_squared_error(y_test,y_pred)))\n",
    "\n",
    "plt.figure(figsize=(5,3))\n",
    "plt.scatter(y_test,y_pred, c='crimson', s = 5, alpha=0.1)\n",
    "plt.xlabel('True Values')\n",
    "plt.ylabel('Predictions')\n",
    "plt.axis('equal')\n",
    "plt.show()"
   ]
  },
  {
   "cell_type": "markdown",
   "metadata": {
    "id": "nPuPW8v9GcPw"
   },
   "source": [
    "## Decision Tree Regressor"
   ]
  },
  {
   "cell_type": "code",
   "execution_count": 99,
   "metadata": {
    "id": "9XbG1K5pGcPx",
    "outputId": "4ae803a7-908d-496c-cce0-9eb0cc767954"
   },
   "outputs": [
    {
     "name": "stdout",
     "output_type": "stream",
     "text": [
      "r2_score:  0.9510066070765079\n",
      "Mean absolute error: 421.70\n",
      "Root mean squared error:  903.9898312667734\n"
     ]
    },
    {
     "data": {
      "image/png": "[encoded data removed]",
      "text/plain": [
       "<Figure size 500x300 with 1 Axes>"
      ]
     },
     "metadata": {},
     "output_type": "display_data"
    }
   ],
   "source": [
    "from sklearn.tree import DecisionTreeRegressor\n",
    "\n",
    "dt_model = DecisionTreeRegressor()\n",
    "dt_model.fit(x_train, y_train) \n",
    "y_pred_open = dt_model.predict(x_test_open)\n",
    "y_pred = np.append(y_pred_open, np.zeros(combined_data_closed.shape[0]))\n",
    "y_test = np.append(y_test_open, np.zeros(combined_data_closed.shape[0]))\n",
    "\n",
    "print(\"r2_score: \",r2_score(y_test,y_pred))\n",
    "print(\"Mean absolute error: %.2f\" % mean_absolute_error(y_test,y_pred))\n",
    "print(\"Root mean squared error: \", math.sqrt(mean_squared_error(y_test,y_pred)))\n",
    "\n",
    "\n",
    "plt.figure(figsize=(5,3))\n",
    "plt.scatter(y_test,y_pred, c='crimson', s = 5, alpha=0.1)\n",
    "\n",
    "plt.xlabel('True Values')\n",
    "plt.ylabel('Predictions')\n",
    "plt.axis('equal')\n",
    "plt.show()"
   ]
  },
  {
   "cell_type": "markdown",
   "metadata": {
    "id": "1HBUZNQ9GcPv"
   },
   "source": [
    "## Random Forest Regressor"
   ]
  },
  {
   "cell_type": "code",
   "execution_count": 105,
   "metadata": {
    "id": "H57r5sAWGcPv",
    "outputId": "70cc1551-351b-4360-e69a-8dac41a19a99"
   },
   "outputs": [
    {
     "name": "stdout",
     "output_type": "stream",
     "text": [
      "r2_score:  0.9650002366016175\n",
      "Mean absolute error: 357.51\n",
      "Root mean squared error:  764.0597837439735\n"
     ]
    },
    {
     "data": {
      "image/png": "[encoded data removed]",
      "text/plain": [
       "<Figure size 500x300 with 1 Axes>"
      ]
     },
     "metadata": {},
     "output_type": "display_data"
    }
   ],
   "source": [
    "from sklearn.ensemble import RandomForestRegressor\n",
    "\n",
    "rf_model = RandomForestRegressor()\n",
    "rf_model.fit(x_train, y_train) \n",
    "y_pred_open = rf_model.predict(x_test_open)\n",
    "y_pred = np.append(y_pred_open, np.zeros(combined_data_closed.shape[0]))\n",
    "y_test = np.append(y_test_open, np.zeros(combined_data_closed.shape[0]))\n",
    "\n",
    "print(\"r2_score: \",r2_score(y_test,y_pred))\n",
    "print(\"Mean absolute error: %.2f\" % mean_absolute_error(y_test,y_pred))\n",
    "print(\"Root mean squared error: \", math.sqrt(mean_squared_error(y_test,y_pred)))\n",
    "\n",
    "\n",
    "\n",
    "plt.figure(figsize=(5,3))\n",
    "plt.scatter(y_test,y_pred, c='crimson', s = 5, alpha=0.1)\n",
    "plt.xlabel('True Values')\n",
    "plt.ylabel('Predictions')\n",
    "plt.axis('equal')\n",
    "plt.show()"
   ]
  },
  {
   "cell_type": "markdown",
   "metadata": {
    "id": "_rMZoo-eGcPy"
   },
   "source": [
    "**Obervation**: Random Forest Regressor had the lowest error as compared to other models."
   ]
  },
  {
   "cell_type": "markdown",
   "metadata": {
    "id": "DsoAtSSKGcPy"
   },
   "source": [
    "## Feature Importance Analysis"
   ]
  },
  {
   "cell_type": "code",
   "execution_count": 106,
   "metadata": {
    "id": "yxUCEf41GcPy",
    "outputId": "3725b4b0-e088-4b88-97df-f8667e11d554"
   },
   "outputs": [
    {
     "data": {
      "text/plain": [
       "array([0.17723719, 0.08153539, 0.14003978, 0.00122815, 0.01255116,\n",
       "       0.03626554, 0.03131564, 0.20946227, 0.06854235, 0.0761422 ,\n",
       "       0.00327534, 0.02979953, 0.03330968, 0.01249607, 0.02390275,\n",
       "       0.06289696])"
      ]
     },
     "execution_count": 106,
     "metadata": {},
     "output_type": "execute_result"
    }
   ],
   "source": [
    "# getting weights of all the features used in the data\n",
    "feature_importance = rf_model.feature_importances_\n",
    "feature_importance"
   ]
  },
  {
   "cell_type": "code",
   "execution_count": 111,
   "metadata": {
    "id": "ElU0_qlAGcP1",
    "outputId": "df9b0cb4-7b00-410c-9b5a-ca71858454bc"
   },
   "outputs": [
    {
     "data": {
      "text/html": [
       "<div>\n",
       "<style scoped>\n",
       "    .dataframe tbody tr th:only-of-type {\n",
       "        vertical-align: middle;\n",
       "    }\n",
       "\n",
       "    .dataframe tbody tr th {\n",
       "        vertical-align: top;\n",
       "    }\n",
       "\n",
       "    .dataframe thead th {\n",
       "        text-align: right;\n",
       "    }\n",
       "</style>\n",
       "<table border=\"1\" class=\"dataframe\">\n",
       "  <thead>\n",
       "    <tr style=\"text-align: right;\">\n",
       "      <th></th>\n",
       "      <th>Features</th>\n",
       "      <th>Values</th>\n",
       "    </tr>\n",
       "  </thead>\n",
       "  <tbody>\n",
       "    <tr>\n",
       "      <th>7</th>\n",
       "      <td>CompetitionDistance</td>\n",
       "      <td>0.20946</td>\n",
       "    </tr>\n",
       "    <tr>\n",
       "      <th>0</th>\n",
       "      <td>Store</td>\n",
       "      <td>0.17724</td>\n",
       "    </tr>\n",
       "    <tr>\n",
       "      <th>2</th>\n",
       "      <td>Promo</td>\n",
       "      <td>0.14004</td>\n",
       "    </tr>\n",
       "    <tr>\n",
       "      <th>1</th>\n",
       "      <td>DayOfWeek</td>\n",
       "      <td>0.08154</td>\n",
       "    </tr>\n",
       "    <tr>\n",
       "      <th>9</th>\n",
       "      <td>CompetitionOpenSinceYear</td>\n",
       "      <td>0.07614</td>\n",
       "    </tr>\n",
       "    <tr>\n",
       "      <th>8</th>\n",
       "      <td>CompetitionOpenSinceMonth</td>\n",
       "      <td>0.06854</td>\n",
       "    </tr>\n",
       "    <tr>\n",
       "      <th>15</th>\n",
       "      <td>Month</td>\n",
       "      <td>0.06290</td>\n",
       "    </tr>\n",
       "    <tr>\n",
       "      <th>5</th>\n",
       "      <td>StoreType</td>\n",
       "      <td>0.03627</td>\n",
       "    </tr>\n",
       "    <tr>\n",
       "      <th>12</th>\n",
       "      <td>Promo2SinceYear</td>\n",
       "      <td>0.03331</td>\n",
       "    </tr>\n",
       "    <tr>\n",
       "      <th>6</th>\n",
       "      <td>Assortment</td>\n",
       "      <td>0.03132</td>\n",
       "    </tr>\n",
       "    <tr>\n",
       "      <th>11</th>\n",
       "      <td>Promo2SinceWeek</td>\n",
       "      <td>0.02980</td>\n",
       "    </tr>\n",
       "    <tr>\n",
       "      <th>14</th>\n",
       "      <td>Year</td>\n",
       "      <td>0.02390</td>\n",
       "    </tr>\n",
       "    <tr>\n",
       "      <th>4</th>\n",
       "      <td>SchoolHoliday</td>\n",
       "      <td>0.01255</td>\n",
       "    </tr>\n",
       "    <tr>\n",
       "      <th>13</th>\n",
       "      <td>PromoInterval</td>\n",
       "      <td>0.01250</td>\n",
       "    </tr>\n",
       "    <tr>\n",
       "      <th>10</th>\n",
       "      <td>Promo2</td>\n",
       "      <td>0.00328</td>\n",
       "    </tr>\n",
       "    <tr>\n",
       "      <th>3</th>\n",
       "      <td>StateHoliday</td>\n",
       "      <td>0.00123</td>\n",
       "    </tr>\n",
       "  </tbody>\n",
       "</table>\n",
       "</div>"
      ],
      "text/plain": [
       "                     Features   Values\n",
       "7         CompetitionDistance  0.20946\n",
       "0                       Store  0.17724\n",
       "2                       Promo  0.14004\n",
       "1                   DayOfWeek  0.08154\n",
       "9    CompetitionOpenSinceYear  0.07614\n",
       "8   CompetitionOpenSinceMonth  0.06854\n",
       "15                      Month  0.06290\n",
       "5                   StoreType  0.03627\n",
       "12            Promo2SinceYear  0.03331\n",
       "6                  Assortment  0.03132\n",
       "11            Promo2SinceWeek  0.02980\n",
       "14                       Year  0.02390\n",
       "4               SchoolHoliday  0.01255\n",
       "13              PromoInterval  0.01250\n",
       "10                     Promo2  0.00328\n",
       "3                StateHoliday  0.00123"
      ]
     },
     "execution_count": 111,
     "metadata": {},
     "output_type": "execute_result"
    }
   ],
   "source": [
    "# making a dataframe\n",
    "feature_importance_df = pd.DataFrame({\"Features\":list(x_train.columns),\n",
    "                                     \"Values\":feature_importance.round(5)})\n",
    "feature_importance_df.sort_values(by=[\"Values\"], inplace=True, ascending=False)\n",
    "feature_importance_df"
   ]
  },
  {
   "cell_type": "code",
   "execution_count": 112,
   "metadata": {
    "id": "d0k5VuBWGcP3",
    "outputId": "b3c6ed06-6719-4ed2-864a-8123dce5bad0"
   },
   "outputs": [
    {
     "data": {
      "image/png": "[encoded data removed]",
      "text/plain": [
       "<Figure size 800x300 with 1 Axes>"
      ]
     },
     "metadata": {},
     "output_type": "display_data"
    }
   ],
   "source": [
    "# Feature Importance\n",
    "plt.figure(figsize=(8,3))\n",
    "\n",
    "sns.barplot(x=feature_importance_df['Features'], y=feature_importance_df['Values'],\n",
    "            data = feature_importance_df ).set(title='Feature Importance')\n",
    "\n",
    "plt.xticks(rotation=90)\n",
    "plt.show()"
   ]
  },
  {
   "cell_type": "markdown",
   "metadata": {
    "id": "neQvWo84GcP5"
   },
   "source": [
    "## To do:\n",
    "Predict the sales"
   ]
  },
  {
   "cell_type": "code",
   "execution_count": null,
   "metadata": {},
   "outputs": [],
   "source": []
  }
 ],
 "metadata": {
  "colab": {
   "name": "rossman_sales_prediction.ipynb",
   "provenance": []
  },
  "kernelspec": {
   "display_name": "Python 3 (ipykernel)",
   "language": "python",
   "name": "python3"
  },
  "language_info": {
   "codemirror_mode": {
    "name": "ipython",
    "version": 3
   },
   "file_extension": ".py",
   "mimetype": "text/x-python",
   "name": "python",
   "nbconvert_exporter": "python",
   "pygments_lexer": "ipython3",
   "version": "3.11.7"
  }
 },
 "nbformat": 4,
 "nbformat_minor": 4
}
